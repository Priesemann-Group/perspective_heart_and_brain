{
 "cells": [
  {
   "cell_type": "markdown",
   "metadata": {},
   "source": [
    "# Heart Tor Model"
   ]
  },
  {
   "cell_type": "code",
   "execution_count": 1,
   "metadata": {},
   "outputs": [],
   "source": [
    "import numpy as np \n",
    "\n",
    "\n",
    "import matplotlib.pyplot as plt\n",
    "\n",
    "import pickle\n",
    "\n",
    "\n",
    "\n",
    "import os, sys\n",
    "rootpath = os.path.join(os.getcwd(), '..')\n",
    "sys.path.append(rootpath)\n",
    "\n",
    "\n",
    "from scipy.sparse import diags, coo_matrix\n",
    "from scipy import sparse\n",
    "import jax.numpy as jnp\n",
    "\n",
    "import jax\n",
    "from jax import lax, vmap, jit\n",
    "import jax.random as random\n",
    "from jax.experimental import sparse\n",
    "rootpath = os.path.join(os.getcwd(), '..')\n",
    "codepath = os.path.join(os.getcwd(), '../codebase') #directory where you have the class file\n",
    "sys.path.append(rootpath)\n",
    "sys.path.append(codepath)\n",
    "from codebase.FHN_model import * \n"
   ]
  },
  {
   "cell_type": "code",
   "execution_count": 12,
   "metadata": {},
   "outputs": [],
   "source": [
    "heart_toymodel = FHN_model( \n",
    "                 N=200,\n",
    "                 organ='heart',\n",
    "\n",
    "                 adjacency_seed=1000,\n",
    "                 stimulus_time=2000)    "
   ]
  },
  {
   "cell_type": "code",
   "execution_count": 13,
   "metadata": {},
   "outputs": [],
   "source": [
    "heart_toymodel.solve_with_EulerMaruyama_fori(T=10000,output_times=10000)"
   ]
  },
  {
   "cell_type": "code",
   "execution_count": 18,
   "metadata": {},
   "outputs": [],
   "source": [
    "heart_arrhythmia = FHN_model(N=200,\n",
    "                            organ='heart',\n",
    "                            adjacency_seed=1000,\n",
    "                            p=0.5,\n",
    "                            stimulus_time=2000)\n",
    "heart_asystole = FHN_model(N=200,\n",
    "                            organ='heart',\n",
    "                            adjacency_seed=1000,\n",
    "                            p=0.7,\n",
    "                            stimulus_time=2000)"
   ]
  },
  {
   "cell_type": "code",
   "execution_count": 20,
   "metadata": {},
   "outputs": [],
   "source": [
    "heart_arrhythmia.solve_with_EulerMaruyama_fori(T=10000,output_times=10000)\n",
    "heart_asystole.solve_with_EulerMaruyama_fori(T=10000,output_times=10000)"
   ]
  },
  {
   "cell_type": "code",
   "execution_count": 23,
   "metadata": {},
   "outputs": [],
   "source": [
    "folder='data/simulations/V_p=0.pkl'\n",
    "with open(folder, 'wb') as f:\n",
    "    pickle.dump(np.array(heart_toymodel.vs), f)\n",
    "folder='data/simulations/V_p=0.5.pkl'\n",
    "with open(folder, 'wb') as f:\n",
    "    pickle.dump(np.array(heart_arrhythmia.vs), f)\n",
    "folder='data/simulations/V_p=0.7.pkl'\n",
    "with open(folder, 'wb') as f:\n",
    "    pickle.dump(np.array(heart_asystole.vs), f)"
   ]
  },
  {
   "cell_type": "code",
   "execution_count": 31,
   "metadata": {},
   "outputs": [],
   "source": [
    "ECG_0=np.array(heart_toymodel.vs[ :, :].sum(axis=1)/1000)\n",
    "ECG_05=np.array(heart_arrhythmia.vs[ :, :].sum(axis=1)/1000)\n",
    "ECG_07=np.array(heart_asystole.vs[ :, :].sum(axis=1)/1000)\n",
    "t=np.arange(0,10000,1)"
   ]
  },
  {
   "cell_type": "code",
   "execution_count": 39,
   "metadata": {},
   "outputs": [],
   "source": [
    "\n",
    "np.savetxt('ECG_p=0.txt', np.column_stack((t, ECG_0)), header='t ECG', comments='')\n",
    "np.savetxt('ECG_p=0.5.txt', np.column_stack((t, ECG_05)), header='t ECG', comments='')\n",
    "np.savetxt('ECG_p=0.7.txt', np.column_stack((t, ECG_07)), header='t ECG', comments='')"
   ]
  },
  {
   "cell_type": "code",
   "execution_count": 56,
   "metadata": {},
   "outputs": [],
   "source": [
    "def raster_plot(array):\n",
    "    start_times = []\n",
    "    durations = []\n",
    "    indices = []\n",
    "    for i in range(array.shape[0]):\n",
    "        signal = array[i, :]\n",
    "        start_time = np.where(np.diff(signal, prepend=0) == 1)[0]\n",
    "        end_time = np.where(np.diff(signal, append=0) == -1)[0]\n",
    "        for s, e in zip(start_time, end_time):\n",
    "            start_times.append(s)\n",
    "            durations.append(e - s)\n",
    "            indices.append(i)\n",
    "\n",
    "    start_times = np.array(start_times)\n",
    "    durations = np.array(durations)\n",
    "    indices = np.array(indices)\n",
    "    return start_times, durations, indices\n"
   ]
  },
  {
   "cell_type": "code",
   "execution_count": 57,
   "metadata": {},
   "outputs": [],
   "source": [
    "\n",
    "N=heart_toymodel.N\n",
    "raster_0=np.where(heart_toymodel.vs > 0.8, 1, 0).reshape(10000, N,N).T\n",
    "raster_0=raster_0[:, 20,:]\n",
    "\n",
    "start_times_0, durations_0, indices_0 = raster_plot(raster_0)\n",
    "\n",
    "raster_1=np.where(heart_arrhythmia.vs > 0.8, 1, 0).reshape(10000, N,N).T\n",
    "raster_1=raster_1[:, 20,:]\n",
    "\n",
    "start_times1, durations_1, indices_1 = raster_plot(raster_1)\n",
    "\n",
    "\n",
    "raster_2=np.where(heart_asystole.vs > 0.8, 1, 0).reshape(10000, N,N).T\n",
    "raster_2=raster_2[:, 20,:]\n",
    "\n",
    "start_times_2, durations_2, indices_2 = raster_plot(raster_2)\n",
    "\n"
   ]
  },
  {
   "cell_type": "code",
   "execution_count": null,
   "metadata": {},
   "outputs": [],
   "source": [
    "np.savetxt('Raster_plot_column_p=0.txt', np.column_stack((start_times_0,durations_0, indices_0)), header='times durations ids', comments='')\n",
    "np.savetxt('Raster_plot_column_p=0.5.txt', np.column_stack((start_times1, durations_1,indices_1)), header='times durations ids', comments='')\n",
    "np.savetxt('Raster_plot_column_p=0.7.txt', np.column_stack((start_times_2, durations_2,indices_2)), header='times durations ids', comments='')"
   ]
  },
  {
   "cell_type": "code",
   "execution_count": 59,
   "metadata": {},
   "outputs": [],
   "source": [
    "\n",
    "N=heart_toymodel.N\n",
    "raster_0=np.where(heart_toymodel.vs > 0.8, 1, 0).reshape(10000, N,N).T\n",
    "raster_0=raster_0[20, :,:]\n",
    "\n",
    "start_times_0, durations_0, indices_0 = raster_plot(raster_0)\n",
    "\n",
    "raster_1=np.where(heart_arrhythmia.vs > 0.8, 1, 0).reshape(10000, N,N).T\n",
    "raster_1=raster_1[20, :,:]\n",
    "\n",
    "start_times1, durations_1, indices_1 = raster_plot(raster_1)\n",
    "\n",
    "\n",
    "raster_2=np.where(heart_asystole.vs > 0.8, 1, 0).reshape(10000, N,N).T\n",
    "raster_2=raster_2[20, :,:]\n",
    "\n",
    "start_times_2, durations_2, indices_2 = raster_plot(raster_2)\n",
    "\n"
   ]
  },
  {
   "cell_type": "code",
   "execution_count": 61,
   "metadata": {},
   "outputs": [],
   "source": [
    "np.savetxt('Raster_plot_row_p=0.txt', np.column_stack((start_times_0,durations_0, indices_0)), header='times durations ids', comments='')\n",
    "np.savetxt('Raster_plot_row_p=0.5.txt', np.column_stack((start_times1, durations_1,indices_1)), header='times durations ids', comments='')\n",
    "np.savetxt('Raster_plot_row_p=0.7.txt', np.column_stack((start_times_2, durations_2,indices_2)), header='times durations ids', comments='')"
   ]
  },
  {
   "cell_type": "markdown",
   "metadata": {},
   "source": [
    "# Brain Toy model"
   ]
  },
  {
   "cell_type": "code",
   "execution_count": 63,
   "metadata": {},
   "outputs": [
    {
     "name": "stderr",
     "output_type": "stream",
     "text": [
      "c:\\Users\\pelli\\Projects\\perspective_heart_and_brain\\notebooks_figures_paper\\..\\codebase\\FHN_model.py:158: FutureWarning: adjacency_matrix will return a scipy.sparse array instead of a matrix in Networkx 3.0.\n",
      "  adj_matrix = nx.adjacency_matrix(G, weight='weight')\n",
      "c:\\Users\\pelli\\Projects\\perspective_heart_and_brain\\notebooks_figures_paper\\..\\codebase\\FHN_model.py:158: FutureWarning: adjacency_matrix will return a scipy.sparse array instead of a matrix in Networkx 3.0.\n",
      "  adj_matrix = nx.adjacency_matrix(G, weight='weight')\n"
     ]
    }
   ],
   "source": [
    "Brain_healthy= FHN_model(N=40000,\n",
    "                        organ='brain',\n",
    "                        m=0.005,\n",
    "                        sigma=0.04,\n",
    "                        adjacency_seed=1000)\n",
    "Brain_epilepsy= FHN_model(N=40000,\n",
    "                        organ='brain',\n",
    "                        m=0.145,\n",
    "                        sigma=0.04,\n",
    "                        adjacency_seed=1000)"
   ]
  },
  {
   "cell_type": "code",
   "execution_count": 64,
   "metadata": {},
   "outputs": [],
   "source": [
    "Brain_healthy.solve_with_EulerMaruyama_fori(T=10000,output_times=10000)\n",
    "Brain_epilepsy.solve_with_EulerMaruyama_fori(T=10000,output_times=10000)"
   ]
  },
  {
   "cell_type": "code",
   "execution_count": 65,
   "metadata": {},
   "outputs": [],
   "source": [
    "folder='data/simulations/V_m=0.005.pkl'\n",
    "with open(folder, 'wb') as f:\n",
    "    pickle.dump(np.array(Brain_healthy.vs), f)\n",
    "folder='data/simulations/V_m=0.145.pkl'\n",
    "with open(folder, 'wb') as f:\n",
    "    pickle.dump(np.array(Brain_healthy.vs), f)"
   ]
  },
  {
   "cell_type": "code",
   "execution_count": 66,
   "metadata": {},
   "outputs": [],
   "source": [
    "EEG_005=np.array(Brain_healthy.vs[ :, :].sum(axis=1)/1000)\n",
    "EEG_145=np.array(Brain_epilepsy.vs[ :, :].sum(axis=1)/1000)\n",
    "t=np.arange(0,10000,1)"
   ]
  },
  {
   "cell_type": "code",
   "execution_count": 67,
   "metadata": {},
   "outputs": [],
   "source": [
    "\n",
    "np.savetxt('EEG_m=0.005.txt', np.column_stack((t, EEG_005)), header='t EEG', comments='')\n",
    "np.savetxt('EEG_m=0.145.txt', np.column_stack((t, EEG_145)), header='t EEG', comments='')\n"
   ]
  },
  {
   "cell_type": "code",
   "execution_count": 68,
   "metadata": {},
   "outputs": [],
   "source": [
    "\n",
    "N=Brain_healthy.N\n",
    "raster_0=np.where(Brain_healthy.vs > 0.5, 1, 0).T\n",
    "\n",
    "\n",
    "start_times_0, durations_0, indices_0 = raster_plot(raster_0)\n",
    "\n",
    "raster_1=np.where(Brain_epilepsy.vs > 0.5, 1, 0).T\n",
    "\n",
    "\n",
    "start_times1, durations_1, indices_1 = raster_plot(raster_1)\n"
   ]
  },
  {
   "cell_type": "code",
   "execution_count": 69,
   "metadata": {},
   "outputs": [],
   "source": [
    "np.savetxt('Raster_plot_m=0.005.txt', np.column_stack((start_times_0,durations_0, indices_0)), header='times durations ids', comments='')\n",
    "np.savetxt('Raster_plot_m=0.145.txt', np.column_stack((start_times1, durations_1,indices_1)), header='times durations ids', comments='')\n"
   ]
  },
  {
   "cell_type": "markdown",
   "metadata": {},
   "source": []
  },
  {
   "cell_type": "code",
   "execution_count": null,
   "metadata": {},
   "outputs": [],
   "source": []
  }
 ],
 "metadata": {
  "kernelspec": {
   "display_name": "base",
   "language": "python",
   "name": "python3"
  },
  "language_info": {
   "codemirror_mode": {
    "name": "ipython",
    "version": 3
   },
   "file_extension": ".py",
   "mimetype": "text/x-python",
   "name": "python",
   "nbconvert_exporter": "python",
   "pygments_lexer": "ipython3",
   "version": "3.9.13"
  }
 },
 "nbformat": 4,
 "nbformat_minor": 2
}
