{
 "cells": [
  {
   "cell_type": "code",
   "execution_count": 1,
   "metadata": {},
   "outputs": [
    {
     "name": "stdout",
     "output_type": "stream",
     "text": [
      "/Users/johannes/research/figures_perspective_heart_brain/subfigures/\n",
      "/Users/johannes/research/figures_perspective_heart_brain/data/\n"
     ]
    }
   ],
   "source": [
    "import numpy as np \n",
    "import matplotlib.pyplot as plt\n",
    "import pickle\n",
    "from mpl_toolkits.axes_grid1 import Size, Divider\n",
    "\n",
    "import os, sys\n",
    "rootpath = os.path.join(os.getcwd(), '..')\n",
    "sys.path.append(rootpath)\n",
    "import gzip\n",
    "from os.path import isfile\n",
    "import json\n",
    "\n",
    "# load path_figures from config_user.json if it exists\n",
    "path_config = \"../config_user.json\"\n",
    "if isfile(path_config):\n",
    "    with open(path_config, 'r') as f:\n",
    "        config = json.load(f)\n",
    "else:\n",
    "    with open(\"../config_default.json\", 'r') as f:\n",
    "        config = json.load(f)\n",
    "\n",
    "path_figures = config[\"path_figures\"]\n",
    "print(path_figures)\n",
    "path_data = config[\"path_data\"]\n",
    "print(path_data)"
   ]
  },
  {
   "cell_type": "code",
   "execution_count": 2,
   "metadata": {},
   "outputs": [],
   "source": [
    "savefig_args = {\n",
    "    'transparent': True,\n",
    "    'format': 'pdf',\n",
    "    'dpi': 300,\n",
    "}\n",
    "plt.text.usetex : True\n",
    "# font size\n",
    "plt.rcParams.update({'font.size': 8})\n",
    "# # tick size\n",
    "plt.rcParams['xtick.labelsize'] = 6\n",
    "plt.rcParams['ytick.labelsize'] = 6\n",
    "\n",
    "# native unit is inches, convert to mm by introducting a \"unit scale\" that is used as scalar * mm (e.g. 1*mm = 1/25.4 in inch)\n",
    "mm = 1/25.4  # mm in inches"
   ]
  },
  {
   "cell_type": "markdown",
   "metadata": {},
   "source": [
    "## Load data"
   ]
  },
  {
   "cell_type": "code",
   "execution_count": 3,
   "metadata": {},
   "outputs": [],
   "source": [
    "import pandas as pd\n",
    "# load action potentials (times, duration, id) for rater plots\n",
    "filename = path_data + 'FHN_erdos_renyi_m=0.005_raster.txt'\n",
    "if isfile(filename):\n",
    "    df_raster_healthy = pd.read_csv(filename, sep=' ')\n",
    "else:\n",
    "    raise ValueError(f\"{filename} not found\")\n",
    "\n",
    "filename = path_data + 'FHN_erdos_renyi_m=0.005_collective_signal.txt'\n",
    "if isfile(filename):\n",
    "    df_collective_healthy = pd.read_csv(filename, sep=' ')\n",
    "else:\n",
    "    raise ValueError(f\"{filename} not found\")\n",
    "\n",
    "# pathological data\n",
    "filename = path_data + 'FHN_erdos_renyi_m=0.145_collective_signal.txt'\n",
    "if isfile(filename):\n",
    "    df_collective_burst = pd.read_csv(filename, sep=' ')\n",
    "else:\n",
    "    raise ValueError(f\"{filename} not found\")"
   ]
  },
  {
   "cell_type": "code",
   "execution_count": 4,
   "metadata": {},
   "outputs": [
    {
     "data": {
      "text/html": [
       "<div>\n",
       "<style scoped>\n",
       "    .dataframe tbody tr th:only-of-type {\n",
       "        vertical-align: middle;\n",
       "    }\n",
       "\n",
       "    .dataframe tbody tr th {\n",
       "        vertical-align: top;\n",
       "    }\n",
       "\n",
       "    .dataframe thead th {\n",
       "        text-align: right;\n",
       "    }\n",
       "</style>\n",
       "<table border=\"1\" class=\"dataframe\">\n",
       "  <thead>\n",
       "    <tr style=\"text-align: right;\">\n",
       "      <th></th>\n",
       "      <th>time</th>\n",
       "      <th>collective</th>\n",
       "      <th>signal</th>\n",
       "    </tr>\n",
       "  </thead>\n",
       "  <tbody>\n",
       "    <tr>\n",
       "      <th>0</th>\n",
       "      <td>0.0</td>\n",
       "      <td>0.105055</td>\n",
       "      <td>NaN</td>\n",
       "    </tr>\n",
       "    <tr>\n",
       "      <th>1</th>\n",
       "      <td>1.0</td>\n",
       "      <td>0.293286</td>\n",
       "      <td>NaN</td>\n",
       "    </tr>\n",
       "    <tr>\n",
       "      <th>2</th>\n",
       "      <td>2.0</td>\n",
       "      <td>0.457524</td>\n",
       "      <td>NaN</td>\n",
       "    </tr>\n",
       "    <tr>\n",
       "      <th>3</th>\n",
       "      <td>3.0</td>\n",
       "      <td>0.584724</td>\n",
       "      <td>NaN</td>\n",
       "    </tr>\n",
       "    <tr>\n",
       "      <th>4</th>\n",
       "      <td>4.0</td>\n",
       "      <td>0.716557</td>\n",
       "      <td>NaN</td>\n",
       "    </tr>\n",
       "  </tbody>\n",
       "</table>\n",
       "</div>"
      ],
      "text/plain": [
       "   time  collective  signal\n",
       "0   0.0    0.105055     NaN\n",
       "1   1.0    0.293286     NaN\n",
       "2   2.0    0.457524     NaN\n",
       "3   3.0    0.584724     NaN\n",
       "4   4.0    0.716557     NaN"
      ]
     },
     "execution_count": 4,
     "metadata": {},
     "output_type": "execute_result"
    }
   ],
   "source": [
    "df_collective_burst.head()"
   ]
  },
  {
   "cell_type": "markdown",
   "metadata": {},
   "source": [
    "## Alignment "
   ]
  },
  {
   "cell_type": "code",
   "execution_count": 5,
   "metadata": {},
   "outputs": [],
   "source": [
    "# select 8s of data (in ms)\n",
    "# time_range = [1700, 9700]\n",
    "time_range = np.array([3700, 9700])\n",
    "height_bar = 0.7\n",
    "\n",
    "scale_time = {\n",
    "    'm=0.005_raster_random': 1800,\n",
    "    'm=0.005_collective': 1800,\n",
    "    'm=0.145_collective': 1800,\n",
    "    'width': 500\n",
    "}\n",
    "\n",
    "scale_collective = {\n",
    "    'time': 1750,\n",
    "    'height': 0.5,\n",
    "}"
   ]
  },
  {
   "cell_type": "markdown",
   "metadata": {},
   "source": [
    "## Raster plot"
   ]
  },
  {
   "cell_type": "code",
   "execution_count": 6,
   "metadata": {},
   "outputs": [],
   "source": [
    "raster_data = {\n",
    "    \"m=0.005_raster_random\": df_raster_healthy,\n",
    "}\n",
    "\n",
    "# random selection of 200 neurons\n",
    "ids_sel = np.random.choice(df_raster_healthy['id'].unique(), 200)\n",
    "\n",
    "raster_ids = {\n",
    "    \"m=0.005_raster_random\": ids_sel,\n",
    "}"
   ]
  },
  {
   "cell_type": "code",
   "execution_count": 36,
   "metadata": {},
   "outputs": [
    {
     "name": "stdout",
     "output_type": "stream",
     "text": [
      "m=0.005_raster_random\n"
     ]
    },
    {
     "data": {
      "image/png": "[encoded data removed]",
      "text/plain": [
       "<Figure size 708.661x283.465 with 1 Axes>"
      ]
     },
     "metadata": {},
     "output_type": "display_data"
    }
   ],
   "source": [
    "from matplotlib.patches import Rectangle\n",
    "\n",
    "width = 60 * mm\n",
    "height = 24 * mm\n",
    "\n",
    "# iterate over the raster data dictionary\n",
    "for (label, data) in raster_data.items():\n",
    "    print(label)\n",
    "    ids = raster_ids[label]\n",
    "    # reduce dataframe to ids\n",
    "    data_plot = data[data['id'].isin(ids)]\n",
    "    num_nodes = len(ids)\n",
    "\n",
    "    fig = plt.figure(figsize=(width, height), dpi=300)\n",
    "    # ax = plt.axes([0., 0., 1., 1.], frameon=False, xticks=[],yticks=[])\n",
    "    # ax = plt.axes([0., 0., 1., 1.])\n",
    "    ax = plt.axes([0.065, 0.18, 0.91, 0.81], frameon=True, yticks=[])\n",
    "    # set xticks \n",
    "    ax.set_xticks([0,2000,4000])\n",
    "\n",
    "\n",
    "    # plot all action potentials from dataframe as horizontal lines with y value id and length duration\n",
    "    for i, row in data_plot.iterrows():\n",
    "        time = row['time']\n",
    "        duration = row['duration']\n",
    "        # index as the location of node in ids\n",
    "        index = np.where(ids == row['id'])[0][0]\n",
    "        # plot a rectangle for each action potential in firebrick\n",
    "        ax.add_patch(Rectangle(xy=(time-time_range[0], num_nodes-index-height_bar/2), width=duration, height=height_bar, facecolor='darkblue'))\n",
    "\n",
    "    # set limits to time range\n",
    "    ax.set_xlim(time_range-time_range[0])\n",
    "    ax.set_ylim(-height_bar/2, num_nodes+height_bar/2)\n",
    "\n",
    "    # # add scale bars\n",
    "    # # height of bar should be 1/50 of the figure size (num_nodes+height_bar)\n",
    "    # ax.add_patch(Rectangle(xy=(scale_time[label], 0), width=scale_time['width'], height=(num_nodes+height_bar)/50, facecolor='black'))\n",
    "    # add scale bars\n",
    "    # ax.plot([scale_time[label], scale_time[label]+scale_time['width']], [0, 0], color='black', lw=2)\n",
    "\n",
    "    # set actual size of figure\n",
    "    fig.set_size_inches(width, height)\n",
    "\n",
    "    fig.savefig(path_figures+f\"FHN_erdos_renyi_toybrain_{label}.pdf\", **savefig_args)"
   ]
  },
  {
   "cell_type": "markdown",
   "metadata": {},
   "source": [
    "## EEG"
   ]
  },
  {
   "cell_type": "code",
   "execution_count": 27,
   "metadata": {},
   "outputs": [],
   "source": [
    "collective_data = {\n",
    "    \"m=0.005_collective\": df_collective_healthy,\n",
    "    \"m=0.145_collective\": df_collective_burst,\n",
    "}\n",
    "inset = {\n",
    "    \"m=0.005_collective\": (5300, 700, 0.2),\n",
    "}\n",
    "signal_range = [-0.9, 2.4]"
   ]
  },
  {
   "cell_type": "markdown",
   "metadata": {},
   "source": [
    "### large version for Fig. 3"
   ]
  },
  {
   "cell_type": "code",
   "execution_count": 34,
   "metadata": {},
   "outputs": [
    {
     "name": "stdout",
     "output_type": "stream",
     "text": [
      "m=0.005_collective\n",
      "5300\n"
     ]
    },
    {
     "data": {
      "image/png": "[encoded data removed]",
      "text/plain": [
       "<Figure size 708.661x283.465 with 1 Axes>"
      ]
     },
     "metadata": {},
     "output_type": "display_data"
    }
   ],
   "source": [
    "width = 60 * mm\n",
    "height = 24 * mm\n",
    "\n",
    "# iterate over the raster data dictionary\n",
    "label='m=0.005_collective'\n",
    "df = collective_data[label]\n",
    "print(label)\n",
    "fig = plt.figure(figsize=(width, height), dpi=300)\n",
    "# ax = plt.axes([0., 0., 1., 1.], frameon=False, xticks=[],yticks=[])\n",
    "# ax = plt.axes([0., 0., 1., 1.])\n",
    "ax = plt.axes([0.065, 0.18, 0.91, 0.81], frameon=True)\n",
    "# turn off top and right spines\n",
    "ax.spines['top'].set_visible(False)\n",
    "ax.spines['right'].set_visible(False)\n",
    "# set xticks \n",
    "ax.set_xticks([0,2000,4000])\n",
    "# set yticks\n",
    "ax.set_yticks([0,1,2])\n",
    "\n",
    "\n",
    "# plot from dataframe time vs signal\n",
    "df_plot = df[(df['time'] > time_range[0]) & (df['time'] < time_range[1])]\n",
    "ax.plot(df_plot['time']-time_range[0], df_plot['collective'], color='darkblue', lw=1)\n",
    "\n",
    "# set limits to time range\n",
    "ax.set_xlim(time_range - time_range[0])\n",
    "ax.set_ylim(signal_range)\n",
    "\n",
    "# # add scale bars\n",
    "# ax.plot([scale_time[label], scale_time[label]+scale_time['width']], [signal_range[0], signal_range[0]], color='black', lw=2)\n",
    "# ax.plot([scale_collective['time'], scale_collective['time']], [signal_range[0], signal_range[0]+scale_collective['height']], color='black', lw=1)\n",
    "\n",
    "# add inset box\n",
    "if inset[label] is not None:\n",
    "    time, duration, dy = inset[label]\n",
    "    mean_y = np.mean(df_plot['collective'])\n",
    "    print(time)\n",
    "    # draw a rectangle\n",
    "    ax.add_patch(Rectangle(xy=(time - time_range[0], mean_y-dy/2), width=duration, height=dy, edgecolor='black', facecolor='none', lw=0.5))\n",
    "    # ax.plot([time, time], [mean_y-dy/2, mean_y+dy/2], color='black', lw=1)\n",
    "\n",
    "# set actual size of figure\n",
    "fig.set_size_inches(width, height)\n",
    "\n",
    "fig.savefig(path_figures+f\"FHN_erdos_renyi_toybrain_{label}.pdf\", **savefig_args)"
   ]
  },
  {
   "cell_type": "code",
   "execution_count": 30,
   "metadata": {},
   "outputs": [
    {
     "data": {
      "image/png": "[encoded data removed]",
      "text/plain": [
       "<Figure size 413.386x85.8984 with 1 Axes>"
      ]
     },
     "metadata": {},
     "output_type": "display_data"
    }
   ],
   "source": [
    "# plot insets (self-consistent scale the inset by factor 5\n",
    "width_ref = 60 * mm\n",
    "height_ref = 24 * mm \n",
    "factor = 5\n",
    "\n",
    "label='m=0.005_collective'\n",
    "data = inset[label]\n",
    "time, duration, dy = data\n",
    "\n",
    "width = width_ref * duration / np.diff(time_range)[0] * factor\n",
    "height = height_ref * dy / np.diff(signal_range)[0] * factor\n",
    "fig = plt.figure(figsize=(width, height), dpi=300)\n",
    "ax = plt.axes([0., 0., 1., 1.], frameon=True, xticks=[],yticks=[])\n",
    "# ax = plt.axes([0., 0., 1., 1.])\n",
    "\n",
    "# plot from dataframe time vs signal\n",
    "df = collective_data[label]\n",
    "df_plot = df[(df['time'] > time) & (df['time'] < time+duration)]\n",
    "ax.plot(df_plot['time'], df_plot['collective'], color='darkblue', lw=1)\n",
    "\n",
    "# set limits to time range\n",
    "ax.set_xlim([time, time+duration])\n",
    "mean_y = np.mean(df_plot['collective'])\n",
    "ax.set_ylim([mean_y-dy/2, mean_y+dy/2])\n",
    "\n",
    "# set actual size of figure\n",
    "fig.set_size_inches(width, height)\n",
    "\n",
    "fig.savefig(path_figures+f\"FHN_erdos_renyi_toybrain_{label}_inset.pdf\", **savefig_args)\n",
    "\n"
   ]
  },
  {
   "cell_type": "markdown",
   "metadata": {},
   "source": [
    "### small version for Fig. 4"
   ]
  },
  {
   "cell_type": "code",
   "execution_count": 11,
   "metadata": {},
   "outputs": [
    {
     "name": "stdout",
     "output_type": "stream",
     "text": [
      "m=0.005_collective\n",
      "m=0.145_collective\n"
     ]
    },
    {
     "data": {
      "image/png": "[encoded data removed]",
      "text/plain": [
       "<Figure size 377.953x118.11 with 1 Axes>"
      ]
     },
     "metadata": {},
     "output_type": "display_data"
    },
    {
     "data": {
      "image/png": "[encoded data removed]",
      "text/plain": [
       "<Figure size 377.953x118.11 with 1 Axes>"
      ]
     },
     "metadata": {},
     "output_type": "display_data"
    }
   ],
   "source": [
    "width = 32 * mm\n",
    "height = 10 * mm\n",
    "\n",
    "signal_range = [-0.9, 2.4]\n",
    "time_range_small = [1700, 5700]\n",
    "\n",
    "# iterate over the raster data dictionary\n",
    "for (label, df) in collective_data.items():\n",
    "    print(label)\n",
    "    fig = plt.figure(figsize=(width, height), dpi=300)\n",
    "    ax = plt.axes([0., 0., 1., 1.], frameon=False, xticks=[],yticks=[])\n",
    "    # ax = plt.axes([0., 0., 1., 1.])\n",
    "\n",
    "    # plot from dataframe time vs signal\n",
    "    df_plot = df[(df['time'] > time_range[0]) & (df['time'] < time_range[1])]\n",
    "    ax.plot(df_plot['time'], df_plot['collective'], color='darkblue', lw=1)\n",
    "    \n",
    "    # set limits to time range\n",
    "    ax.set_xlim(time_range_small)\n",
    "    ax.set_ylim(signal_range)\n",
    "\n",
    "    # add scale bars\n",
    "    ax.plot([scale_time[label], scale_time[label]+scale_time['width']], [signal_range[0], signal_range[0]], color='black', lw=2)\n",
    "    ax.plot([scale_collective['time'], scale_collective['time']], [signal_range[0], signal_range[0]+scale_collective['height']], color='black', lw=1)\n",
    "\n",
    "    # set actual size of figure\n",
    "    fig.set_size_inches(width, height)\n",
    "    \n",
    "    fig.savefig(path_figures+f\"FHN_erdos_renyi_toybrain_{label}_small.pdf\", **savefig_args)"
   ]
  },
  {
   "cell_type": "markdown",
   "metadata": {},
   "source": [
    "## Snapshots"
   ]
  },
  {
   "cell_type": "code",
   "execution_count": 50,
   "metadata": {},
   "outputs": [],
   "source": [
    "\n",
    "def plot_graph_on_circle(\n",
    "    y,\n",
    "    J,\n",
    "    ax,\n",
    "    subset_size=10,\n",
    "    format_axes=False,\n",
    "    plot_connections=True,\n",
    "    arrows=True,\n",
    "    marker_size=200,\n",
    "    idle_color=\"white\",\n",
    "    spiking_color=\"royalblue\",\n",
    "    weighted_connections_cmap=None,\n",
    "    weighted_connections_norm=None,\n",
    "):\n",
    "    \"\"\"\n",
    "    Plot the graph on a circle with nodes colored based on their V value.\n",
    "    Parameters:\n",
    "        J (scipy.sparse matrix): adjacency matrix\n",
    "        y (numpy.ndarray): (N) states of the neurons\n",
    "        subset_size: number of nodes to plot, if 'all' then subset_size=N\n",
    "    \"\"\"\n",
    "    #J_dense = J.todense()\n",
    "    J_dense = J\n",
    "    #else:\n",
    "   \n",
    "    N = len(y)\n",
    "\n",
    "    # Select a subset of nodes to plot\n",
    "    if type(subset_size) == str and subset_size == \"all\":\n",
    "        subset_size = N\n",
    "    subset_indices = np.random.choice(N, subset_size, replace=False)\n",
    "\n",
    "    # Create positions for the nodes on a circle\n",
    "    theta = np.linspace(0, 2 * np.pi, subset_size, endpoint=False)\n",
    "    positions = np.column_stack((np.cos(theta), np.sin(theta)))\n",
    "\n",
    "    if format_axes:\n",
    "        ax.clear()\n",
    "        ax.set_aspect(\"equal\")\n",
    "        ax.axis(\"off\")\n",
    "\n",
    "    # Plot the connections of the subset\n",
    "    if plot_connections:\n",
    "        i_indices, j_indices = np.meshgrid(\n",
    "            subset_indices, subset_indices, indexing=\"ij\"\n",
    "        )\n",
    "        mask = J_dense[i_indices, j_indices] != 0\n",
    "        i_indices, j_indices = i_indices[mask], j_indices[mask]\n",
    "\n",
    "        for i, j in zip(i_indices, j_indices):\n",
    "            if type(weighted_connections_cmap) == type(None):\n",
    "                color = \"black\"\n",
    "            else:\n",
    "                color = weighted_connections_cmap(\n",
    "                    weighted_connections_norm(J_dense[i, j])\n",
    "                )\n",
    "            if arrows:\n",
    "                ax.arrow(\n",
    "                    x=positions[i % subset_size, 0],\n",
    "                    y=positions[i % subset_size, 1],\n",
    "                    dx=positions[j % subset_size, 0] - positions[i % subset_size, 0],\n",
    "                    dy=positions[j % subset_size, 1] - positions[i % subset_size, 1],\n",
    "                    color=color,\n",
    "                    alpha=1,\n",
    "                    head_width=0.02,\n",
    "                    linewidth=0.1,\n",
    "                    length_includes_head=True,\n",
    "                    rasterized=True,\n",
    "                )\n",
    "            else:\n",
    "                ax.plot(\n",
    "                    [positions[i % subset_size, 0], positions[j % subset_size, 0]],\n",
    "                    [positions[i % subset_size, 1], positions[j % subset_size, 1]],\n",
    "                    \"-\",\n",
    "                    color=color,\n",
    "                    alpha=0.1,\n",
    "                    rasterized=True,\n",
    "                )\n",
    "    # Add a colorbar with specific ticks\n",
    "    subset_y = y[subset_indices]\n",
    "    \n",
    "    norm = plt.Normalize(vmin=-np.max(np.abs(subset_y)), vmax=np.max(np.abs(subset_y)))\n",
    "    cmap = plt.get_cmap(\"seismic\")\n",
    "    \n",
    "    colors = cmap(norm(subset_y))\n",
    "    ax.scatter(\n",
    "        positions[:, 0], positions[:, 1], c=colors, edgecolors=None, s=marker_size, rasterized=True\n",
    "    )"
   ]
  },
  {
   "cell_type": "code",
   "execution_count": 51,
   "metadata": {},
   "outputs": [],
   "source": [
    "width = 10 * mm\n",
    "height = 10 * mm"
   ]
  },
  {
   "cell_type": "code",
   "execution_count": 55,
   "metadata": {},
   "outputs": [
    {
     "data": {
      "image/png": "[encoded data removed]",
      "text/plain": [
       "<Figure size 118.11x118.11 with 1 Axes>"
      ]
     },
     "metadata": {},
     "output_type": "display_data"
    }
   ],
   "source": [
    "# get state of neurons frmo pickle file\n",
    "states = pickle.load(gzip.open('./data/FHN_erdos_renyi_toybrain/V_time_evolution_m=0.005.gz', 'rb'))\n",
    "connections = pickle.load(gzip.open('./data/FHN_erdos_renyi_toybrain/Connectivity_m=0.005.gz', 'rb'))\n",
    "\n",
    "fig = plt.figure(figsize=(width, height), dpi=300)\n",
    "ax = plt.axes([0., 0., 1., 1.], frameon=False, xticks=[],yticks=[])\n",
    "plot_graph_on_circle(states[:, 0], connections, plt.gca(), subset_size=50, format_axes=True, plot_connections=True, arrows=True, marker_size=1, weighted_connections_cmap=None, weighted_connections_norm=None)\n",
    "fig.savefig(path_figures+'FHN_erdos-renyi_toybrain_m=0.005_snapshot.pdf', **savefig_args) "
   ]
  },
  {
   "cell_type": "code",
   "execution_count": 56,
   "metadata": {},
   "outputs": [
    {
     "data": {
      "image/png": "[encoded data removed]",
      "text/plain": [
       "<Figure size 118.11x118.11 with 1 Axes>"
      ]
     },
     "metadata": {},
     "output_type": "display_data"
    }
   ],
   "source": [
    "\n",
    "states = pickle.load(gzip.open('./data/FHN_erdos_renyi_toybrain/V_time_evolution_m=0.145.gz', 'rb'))\n",
    "connections = pickle.load(gzip.open('./data/FHN_erdos_renyi_toybrain/Connectivity_m=0.145.gz', 'rb'))\n",
    "\n",
    "fig = plt.figure(figsize=(width, height), dpi=300)\n",
    "ax = plt.axes([0., 0., 1., 1.], frameon=False, xticks=[],yticks=[])\n",
    "plot_graph_on_circle(states[:, 1500], connections, plt.gca(), subset_size=50, format_axes=True, plot_connections=True, arrows=True, marker_size=1, weighted_connections_cmap=None, weighted_connections_norm=None)\n",
    "fig.savefig(path_figures+'FHN_erdos-renyi_toybrain_m=0.145_snapshot.pdf', **savefig_args)"
   ]
  }
 ],
 "metadata": {
  "kernelspec": {
   "display_name": "data",
   "language": "python",
   "name": "python3"
  },
  "language_info": {
   "codemirror_mode": {
    "name": "ipython",
    "version": 3
   },
   "file_extension": ".py",
   "mimetype": "text/x-python",
   "name": "python",
   "nbconvert_exporter": "python",
   "pygments_lexer": "ipython3",
   "version": "3.12.6"
  }
 },
 "nbformat": 4,
 "nbformat_minor": 2
}
