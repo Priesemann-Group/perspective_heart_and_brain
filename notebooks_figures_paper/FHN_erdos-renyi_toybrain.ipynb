{
 "cells": [
  {
   "cell_type": "code",
   "execution_count": 1,
   "metadata": {},
   "outputs": [
    {
     "name": "stdout",
     "output_type": "stream",
     "text": [
      "./figures/\n"
     ]
    }
   ],
   "source": [
    "import numpy as np \n",
    "import matplotlib.pyplot as plt\n",
    "\n",
    "from matplotlib.colors import ListedColormap\n",
    "import os, sys\n",
    "rootpath = os.path.join(os.getcwd(), '..')\n",
    "sys.path.append(rootpath)\n",
    "import networkx as nx\n",
    "\n",
    "from scipy.sparse import diags, coo_matrix\n",
    "from scipy import sparse\n",
    "import jax.numpy as jnp\n",
    "\n",
    "\n",
    "from jax import lax, jit\n",
    "import jax.random as random\n",
    "from jax.experimental import sparse\n",
    "\n",
    "\n",
    "from os.path import isfile\n",
    "import json\n",
    "\n",
    "\n",
    "\n",
    "# load path_figures from config_user.json if it exists\n",
    "path_config = \"../config_user.json\"\n",
    "if isfile(path_config):\n",
    "    with open(path_config, 'r') as f:\n",
    "        config = json.load(f)\n",
    "else:\n",
    "    with open(\"../config_default.json\", 'r') as f:\n",
    "        config = json.load(f)\n",
    "\n",
    "path_figures = config[\"path_figures\"]\n",
    "print(path_figures)\n",
    "\n",
    "\n"
   ]
  },
  {
   "cell_type": "code",
   "execution_count": 2,
   "metadata": {},
   "outputs": [],
   "source": [
    "savefig_args = {\n",
    "    'transparent': True,\n",
    "    'format': 'pdf',\n",
    "    'dpi': 300,\n",
    "    'facecolor': 'none',\n",
    "    'bbox_inches': 'tight',\n",
    "    'pad_inches': 0\n",
    "}\n",
    "\n",
    "#mm to inches conversion\n",
    "def mm_to_inches(mm):\n",
    "    return mm / 25.4\n",
    "\n",
    "#colormap for raster plot\n",
    "colors = [(0, 0, 0, 0),  \n",
    "          (0, 0, 0.55, 1)]  \n",
    "cmap = ListedColormap(colors)"
   ]
  },
  {
   "cell_type": "code",
   "execution_count": 3,
   "metadata": {},
   "outputs": [],
   "source": [
    "#random network implementation\n",
    "def random_graph(N, k, J, seed=100, weights='homogeneous', weight_generator=None):\n",
    "    '''\n",
    "    Creates a random, directed, and weighted Erdos Renyi graph.\n",
    "    Parameters:\n",
    "        N: number of nodes\n",
    "        k: mean nodal degree\n",
    "        J: weight parameters. If homogeneous weights: constant float, if gaussian weigts: J=(J_mean, J_sigma)\n",
    "        seed: seed for the ER graph generation\n",
    "        weights: Type of weights, 'homogeneous' or 'gaussian'\n",
    "        generator: random generator for random weights\n",
    "    Returns:\n",
    "        sparse jax.experimental coupling matrix \n",
    "    '''\n",
    "    p = k / (N - 1)\n",
    "    \n",
    "    # Create ER graph\n",
    "    G = nx.erdos_renyi_graph(N, p, directed=True, seed=seed)\n",
    "    \n",
    "    # Put weights\n",
    "    for u, v in G.edges():\n",
    "        if weights=='homogeneous':\n",
    "            G[u][v]['weight'] = J#generator.normal(J, J/5)\n",
    "        elif weights=='gaussian':\n",
    "            G[u][v]['weight'] = weight_generator.normal(J[0], J[1])\n",
    "    \n",
    "    # Get the adjacency matrix in sparse format\n",
    "    adj_matrix = nx.adjacency_matrix(G, weight='weight')\n",
    "    \n",
    "    return sparse.BCSR.from_scipy_sparse(adj_matrix)"
   ]
  },
  {
   "cell_type": "code",
   "execution_count": 4,
   "metadata": {},
   "outputs": [
    {
     "name": "stderr",
     "output_type": "stream",
     "text": [
      "C:\\Users\\pelli\\AppData\\Local\\Temp\\ipykernel_2008\\1428128129.py:28: FutureWarning: adjacency_matrix will return a scipy.sparse array instead of a matrix in Networkx 3.0.\n",
      "  adj_matrix = nx.adjacency_matrix(G, weight='weight')\n"
     ]
    }
   ],
   "source": [
    "\n",
    "\n",
    "k=50\n",
    "m=0.0005 # Mean J/k\n",
    "N=1000\n",
    "L= random_graph(N, k, J=m/k, weights='homogeneous')\n",
    "@jit\n",
    "def FHN_step(u, v, N, a, b, e,  sigma, L, key, delta_t):\n",
    "    \n",
    "    '''\n",
    "    Perform a single step of the noisy FitzHugh-Nagumo model.\n",
    "    Parameters:\n",
    "    - u: state variable u\n",
    "    - v: state variable v\n",
    "    - N: number of nodes\n",
    "    - a: parameter a\n",
    "    - b: parameter b\n",
    "    - e: parameter e giving the timescale separation between u and v\n",
    "    - sigma: noise intensity\n",
    "    - L: Laplacian matrix\n",
    "    - key: random key for noise generation\n",
    "    - delta_t: time step\n",
    "    Returns:\n",
    "    - u_new: updated state variable u\n",
    "    - v_new: updated state variable v\n",
    "    '''\n",
    "    # Generate Gaussian noise for each element of h\n",
    "    noise = random.normal(key, u.shape)\n",
    "    \n",
    "    du = a * u * (u - b) * (1 - u) + (L @ u) - v \n",
    "    dv = e * (u - v)\n",
    "    u_new = u + du * delta_t + jnp.sqrt(delta_t * sigma**2) * noise\n",
    "    v_new = v + dv * delta_t\n",
    "\n",
    "    return u_new, v_new\n",
    "\n",
    "def run_simulation(N=N, y0='zeros', a=3, b=0.2, e=1e-2,  J=L, sigma=0.1, delta_t=0.1, total_time=3000.0, key=random.PRNGKey(0)):\n",
    "    if y0=='zeros':\n",
    "        y0 = jnp.zeros(2*N)\n",
    "    \n",
    "    if type(y0) == str and y0=='random':\n",
    "        y0 = random.normal(random.PRNGKey(0), shape=(2*N,))*e\n",
    "     \n",
    "    # Calculate the number of steps based on the total time and delta_t\n",
    "    num_steps = int(total_time / delta_t)\n",
    "\n",
    "    # Initialize state variables\n",
    "    u = y0[:N]\n",
    "    v = y0[N:]\n",
    "\n",
    "    # Define the scan function\n",
    "    def scan_fn(carry, step):\n",
    "        u, v, key = carry\n",
    "        key, subkey = random.split(key)\n",
    "        u, v = FHN_step(u, v, N, a, b, e, sigma, L, subkey, delta_t)\n",
    "        return (u, v, key), (u, v)\n",
    "\n",
    "    # Run the scan function\n",
    "    (u, v, _), (u_trajectory, v_trajectory) = lax.scan(scan_fn, (u, v, key), None, length=num_steps)\n",
    "    u_trajectory=u_trajectory[::10]\n",
    "    v_trajectory=v_trajectory[::10]\n",
    "\n",
    "    return u_trajectory, v_trajectory\n",
    "\n"
   ]
  },
  {
   "cell_type": "code",
   "execution_count": 5,
   "metadata": {},
   "outputs": [
    {
     "name": "stderr",
     "output_type": "stream",
     "text": [
      "C:\\Users\\pelli\\AppData\\Local\\Temp\\ipykernel_2008\\1428128129.py:28: FutureWarning: adjacency_matrix will return a scipy.sparse array instead of a matrix in Networkx 3.0.\n",
      "  adj_matrix = nx.adjacency_matrix(G, weight='weight')\n"
     ]
    }
   ],
   "source": [
    "#healthy brain simulation. Change sigma to get sparser spikes (lower limit to get spikes is around 0.045 /0.5)\n",
    "m1 =0.005\n",
    "L1= random_graph(N, k, J=m1/k, weights='homogeneous')\n",
    "u_sol_health, v_sol_health = run_simulation(N=N, J=L1, a=3, b=0.2, e=0.01,  sigma=0.05, total_time=3000, key=random.PRNGKey(int(1000)))\n",
    "\n",
    "u_sol_health=u_sol_health.T\n",
    "u_sol_health_bin=jnp.where(u_sol_health>0.5, 1, 0)"
   ]
  },
  {
   "cell_type": "markdown",
   "metadata": {},
   "source": [
    "## Raster plot"
   ]
  },
  {
   "cell_type": "code",
   "execution_count": 6,
   "metadata": {},
   "outputs": [],
   "source": [
    "# get rid of the transient and plot fewer neurons\n",
    "# [N, T]\n",
    "data_health =u_sol_health_bin[950:, 100:]\n",
    "\n",
    "\n",
    "\n",
    "# Add blank rows between binary rows \n",
    "N1, T1 = data_health.shape\n",
    "gap1 = 1  # Gap size (number of blank rows)\n",
    "data_health_with_blanks = np.zeros((N1 * (gap1 + 1), T1))\n",
    "for i in range(N1):\n",
    "    data_health_with_blanks[i * (gap1 + 1), :] = data_health[i, :]\n",
    "\n",
    "\n"
   ]
  },
  {
   "cell_type": "code",
   "execution_count": 14,
   "metadata": {},
   "outputs": [
    {
     "data": {
      "image/png": "[encoded data removed]",
      "text/plain": [
       "<Figure size 921.26x283.465 with 1 Axes>"
      ]
     },
     "metadata": {},
     "output_type": "display_data"
    }
   ],
   "source": [
    "# Desired dimensions in mm\n",
    "width_mm = 78\n",
    "height_mm = 24\n",
    "\n",
    "\n",
    "# Plot the data\n",
    "plt.figure(figsize=(mm_to_inches(width_mm), mm_to_inches(height_mm)), facecolor='none', dpi=300)\n",
    "plt.subplots_adjust(left=0.01, right=0.99, top=0.99, bottom=0.01)\n",
    "plt.imshow(data_health_with_blanks, cmap=cmap, interpolation='none',  aspect='auto', rasterized=True)\n",
    "plt.xticks([])  \n",
    "plt.yticks([]) \n",
    "#plt.ylabel(\"Excitable cells \", fontsize=16)\n",
    "#plt.xlabel(\"Time (a.u.)\", fontsize=16)\n",
    "plt.gca().spines['top'].set_visible(False)\n",
    "plt.gca().spines['right'].set_visible(False)\n",
    "plt.gca().spines['bottom'].set_visible(False)\n",
    "plt.gca().spines['left'].set_visible(False)\n",
    "\n",
    "plt.savefig('FHN_erdos-renyi_toybrain_raster.pdf', **savefig_args)\n",
    "\n"
   ]
  },
  {
   "cell_type": "markdown",
   "metadata": {},
   "source": [
    "## EEG"
   ]
  },
  {
   "cell_type": "code",
   "execution_count": 16,
   "metadata": {},
   "outputs": [
    {
     "data": {
      "image/png": "[encoded data removed]",
      "text/plain": [
       "<Figure size 921.26x283.465 with 1 Axes>"
      ]
     },
     "metadata": {},
     "output_type": "display_data"
    }
   ],
   "source": [
    "#here the y scale is set to match the one of the heart simulation\n",
    "fig, ax = plt.subplots( figsize=(mm_to_inches(width_mm), mm_to_inches(height_mm)), facecolor='none', dpi=300)\n",
    "plt.subplots_adjust(left=0.01, right=0.99, top=0.99, bottom=0.01)\n",
    "EEG=u_sol_health[ :, 100:].sum(axis=0)/10000\n",
    "ax.plot(EEG, color='darkblue')\n",
    "\n",
    "ax.set_ylim([-0.09,0.24])\n",
    "ax.set_xlim(0, 2900)\n",
    "ax.set_xticks([])\n",
    "ax.set_yticks([])\n",
    "ax.spines['top'].set_visible(False)\n",
    "ax.spines['right'].set_visible(False)\n",
    "ax.spines['bottom'].set_visible(False)\n",
    "ax.spines['left'].set_visible(False)\n",
    "fig.savefig('FHN_erdos-renyi_toybrain_collective_stimulus.pdf', **savefig_args)"
   ]
  },
  {
   "cell_type": "code",
   "execution_count": 22,
   "metadata": {},
   "outputs": [
    {
     "data": {
      "image/png": "[encoded data removed]",
      "text/plain": [
       "<Figure size 921.26x283.465 with 1 Axes>"
      ]
     },
     "metadata": {},
     "output_type": "display_data"
    }
   ],
   "source": [
    "# inset EEG\n",
    "fig, ax = plt.subplots( figsize=(mm_to_inches(width_mm), mm_to_inches(height_mm)), facecolor='none', dpi=300)\n",
    "plt.subplots_adjust(left=0.01, right=0.99, top=0.99, bottom=0.01)\n",
    "EEG=u_sol_health[ :, 2200:].sum(axis=0)/10000\n",
    "ax.plot(EEG, color='darkblue')\n",
    "\n",
    "\n",
    "ax.set_xlim(0, 800)\n",
    "ax.set_xticks([])\n",
    "ax.set_yticks([])\n",
    "ax.spines['top'].set_visible(False)\n",
    "ax.spines['right'].set_visible(False)\n",
    "ax.spines['bottom'].set_visible(False)\n",
    "ax.spines['left'].set_visible(False)\n",
    "fig.savefig('FHN_erdos-renyi_toybrain_collective_stimulus_inset.pdf', **savefig_args)"
   ]
  },
  {
   "cell_type": "code",
   "execution_count": null,
   "metadata": {},
   "outputs": [],
   "source": []
  }
 ],
 "metadata": {
  "kernelspec": {
   "display_name": "base",
   "language": "python",
   "name": "python3"
  },
  "language_info": {
   "codemirror_mode": {
    "name": "ipython",
    "version": 3
   },
   "file_extension": ".py",
   "mimetype": "text/x-python",
   "name": "python",
   "nbconvert_exporter": "python",
   "pygments_lexer": "ipython3",
   "version": "3.9.13"
  }
 },
 "nbformat": 4,
 "nbformat_minor": 2
}
