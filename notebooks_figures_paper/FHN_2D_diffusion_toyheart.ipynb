{
 "cells": [
  {
   "cell_type": "code",
   "execution_count": 1,
   "metadata": {},
   "outputs": [
    {
     "name": "stdout",
     "output_type": "stream",
     "text": [
      "./figures/\n"
     ]
    }
   ],
   "source": [
    "import numpy as np \n",
    "import matplotlib.pyplot as plt\n",
    "import pickle\n",
    "from matplotlib.colors import ListedColormap\n",
    "import os, sys\n",
    "rootpath = os.path.join(os.getcwd(), '..')\n",
    "sys.path.append(rootpath)\n",
    "\n",
    "from scipy.sparse import diags, coo_matrix\n",
    "from scipy import sparse\n",
    "import jax.numpy as jnp\n",
    "\n",
    "import pickle\n",
    "import jax\n",
    "from jax import lax, vmap, jit\n",
    "import jax.random as random\n",
    "from jax.experimental import sparse\n",
    "\n",
    "\n",
    "\n",
    "from os.path import isfile\n",
    "import json\n",
    "\n",
    "\n",
    "\n",
    "# load path_figures from config_user.json if it exists\n",
    "path_config = \"../config_user.json\"\n",
    "if isfile(path_config):\n",
    "    with open(path_config, 'r') as f:\n",
    "        config = json.load(f)\n",
    "else:\n",
    "    with open(\"../config_default.json\", 'r') as f:\n",
    "        config = json.load(f)\n",
    "\n",
    "path_figures = config[\"path_figures\"]\n",
    "print(path_figures)\n",
    "\n"
   ]
  },
  {
   "cell_type": "code",
   "execution_count": 2,
   "metadata": {},
   "outputs": [],
   "source": [
    "savefig_args = {\n",
    "    'transparent': True,\n",
    "    'format': 'pdf',\n",
    "    'dpi': 300,\n",
    "    'facecolor': 'none',\n",
    "    'bbox_inches': 'tight',\n",
    "    'pad_inches': 0\n",
    "}\n",
    "#mm to inches conversion\n",
    "def mm_to_inches(mm):\n",
    "    return mm / 25.4"
   ]
  },
  {
   "cell_type": "code",
   "execution_count": 3,
   "metadata": {},
   "outputs": [],
   "source": [
    "\n",
    "def generate_laplacian(N, M, conduction_block_threshold, sparse_matrix=False, seed=0):\n",
    "    num_nodes = N * M\n",
    "    adj_rows = []\n",
    "    adj_cols = []\n",
    "    adj_data = []\n",
    "\n",
    "    # Generate random conduction blocks\n",
    "    np.random.seed(seed)\n",
    "    conduction_blocks = np.random.rand(N, M) < conduction_block_threshold\n",
    "\n",
    "\n",
    "    # Function to map grid (i, j) to a single node index\n",
    "    def node_index(i, j):\n",
    "        return i * M + j\n",
    "\n",
    "    # Define neighbors for the nine-point stencil with weights\n",
    "    neighbors = [\n",
    "        (-1, 0, .5),     # up\n",
    "        (1, 0, .5),      # down\n",
    "        (0, -1, .5),     # left\n",
    "        (0, 1, .5),      # right\n",
    "        (-1, -1, .25),   # top-left\n",
    "        (-1, 1, .25),    # top-right\n",
    "        (1, -1, .25),    # bottom-left\n",
    "        (1, 1, .25)      # bottom-right\n",
    "    ]\n",
    "    \n",
    "    # Build adjacency structure excluding conduction blocks\n",
    "    indices = np.array([[i, j] for i in range(N) for j in range(M)])\n",
    "    idx = node_index(indices[:, 0], indices[:, 1])\n",
    "\n",
    "    for di, dj, weight in neighbors:\n",
    "        ni = indices[:, 0] + di\n",
    "        nj = indices[:, 1] + dj\n",
    "\n",
    "    # Step 1: Filter for in-bounds neighbors\n",
    "        in_bounds = (ni >= 0) & (ni < N) & (nj >= 0) & (nj < M)\n",
    "    \n",
    "    # Step 2: Find valid indices (in-bounds) to avoid shape mismatches\n",
    "        valid_indices = np.where(in_bounds)[0]\n",
    "        ni_valid = ni[valid_indices]\n",
    "        nj_valid = nj[valid_indices]\n",
    "\n",
    "    # Step 3: Apply conduction block exclusion on the filtered indices\n",
    "        valid_conduction = ~conduction_blocks[ni_valid, nj_valid]\n",
    "        valid_node = ~conduction_blocks[indices[valid_indices, 0], indices[valid_indices, 1]]\n",
    "        valid = valid_conduction & valid_node\n",
    "\n",
    "    # Step 4: Append data for fully valid connections\n",
    "        adj_rows.extend(idx[valid_indices][valid])\n",
    "        adj_cols.extend(node_index(ni_valid[valid], nj_valid[valid]))\n",
    "        adj_data.extend([weight] * int(np.sum(valid)))\n",
    "\n",
    "\n",
    "    # Create adjacency and degree matrices\n",
    "    adj_matrix = coo_matrix((adj_data, (adj_rows, adj_cols)), shape=(num_nodes, num_nodes))\n",
    "    degrees = np.array(adj_matrix.sum(axis=1)).flatten()\n",
    "    degree_matrix = diags(degrees)\n",
    "\n",
    "    # Construct Laplacian matrix\n",
    "    laplacian_matrix = degree_matrix - adj_matrix\n",
    "\n",
    "\n",
    "    if sparse_matrix:\n",
    "\n",
    "        return sparse.BCSR.from_scipy_sparse(laplacian_matrix), jnp.array(conduction_blocks)\n",
    "    \n",
    "    else:\n",
    "        return laplacian_matrix.todense(), conduction_blocks\n",
    "\n"
   ]
  },
  {
   "cell_type": "code",
   "execution_count": 4,
   "metadata": {},
   "outputs": [],
   "source": [
    "\n",
    "def FHN_step(u, v, N, a, b, e, Du, sigma, L, key, delta_t):\n",
    "    '''\n",
    "    Perform a single step of the noisy FitzHugh-Nagumo model.\n",
    "    Parameters:\n",
    "    - u: state variable u\n",
    "    - v: state variable v\n",
    "    - N: number of nodes\n",
    "    - a: parameter a\n",
    "    - b: parameter b\n",
    "    - e: parameter e giving the timescale separation between u and v\n",
    "    - Du: Diffusion coefficient\n",
    "    - sigma: noise intensity\n",
    "    - L: Laplacian matrix\n",
    "    - key: random key for noise generation\n",
    "    - delta_t: time step\n",
    "    Returns:\n",
    "    - u_new: updated state variable u\n",
    "    - v_new: updated state variable v\n",
    "    '''\n",
    "    # Generate Gaussian noise for each element of h\n",
    "    noise = random.normal(key, u.shape)\n",
    "    \n",
    "    du = a * u * (u - b) * (1 - u) - Du * (L @ u) - v \n",
    "    dv = e * (u - v)\n",
    "    u_new = u + du * delta_t + jnp.sqrt(delta_t * sigma**2) * noise\n",
    "    v_new = v + dv * delta_t\n",
    "\n",
    "    return u_new, v_new\n",
    "\n",
    "def run_simulation(N, y0='wave', a=3, b=0.05, e=1e-2, Du=0.04, L=None, c1=None, sigma=0.0001, stimulus_time=1000, delta_t=0.1, total_time=3000.0, Nconf=3000, key=random.PRNGKey(2)):\n",
    "    indices = jnp.where((jnp.arange(N) % 200 == 0) & (c1.flatten() == 0))[0]\n",
    "    if y0 == 'wave':\n",
    "        y0 = jnp.zeros(2 * N, dtype=jnp.float32)\n",
    "        y0 = y0.at[indices].set(0.1)\n",
    "\n",
    "    # Calculate the number of steps based on the total time and delta_t\n",
    "    num_steps = int(total_time / delta_t)\n",
    "    save_interval = num_steps // Nconf\n",
    "    \n",
    "    # Initialize state variables\n",
    "    u = y0[:N]\n",
    "    v = y0[N:]\n",
    "\n",
    "    def scan_fn(carry, step):\n",
    "        u, v, key, save_counter, u_saved, v_saved = carry\n",
    "        key, subkey = random.split(key)\n",
    "        \n",
    "        # Apply stimulus to the specified indices\n",
    "        u = jax.lax.cond((step > 0) & (step % int(stimulus_time / delta_t) == 0),\n",
    "                          lambda u: u.at[indices].add(0.1),\n",
    "                          lambda u: u,\n",
    "                          u)\n",
    "\n",
    "        u, v = FHN_step(u, v, N, a, b, e, Du, sigma, L, subkey, delta_t)\n",
    "        \n",
    "        # Save the configuration at the specified intervals\n",
    "        save_counter = save_counter + 1\n",
    "        u_saved = jax.lax.cond(save_counter % save_interval == 0,\n",
    "                               lambda u_saved: u_saved.at[save_counter // save_interval - 1].set(u),\n",
    "                               lambda u_saved: u_saved,\n",
    "                               u_saved)\n",
    "        v_saved = jax.lax.cond(save_counter % save_interval == 0,\n",
    "                               lambda v_saved: v_saved.at[save_counter // save_interval - 1].set(v),\n",
    "                               lambda v_saved: v_saved,\n",
    "                               v_saved)\n",
    "        \n",
    "        return (u, v, key, save_counter, u_saved, v_saved), (u, v)\n",
    "\n",
    "    # Preallocate arrays for saved configurations\n",
    "    u_saved = jnp.zeros((Nconf, N), dtype=jnp.float32)\n",
    "    v_saved = jnp.zeros((Nconf, N), dtype=jnp.float32)\n",
    "    \n",
    "    # Create a range of steps\n",
    "    steps = jnp.arange(num_steps)\n",
    "    \n",
    "    # Run the scan function\n",
    "    carry = (u, v, key, 0, u_saved, v_saved)\n",
    "    carry, _ = lax.scan(scan_fn, carry, steps)\n",
    "\n",
    "    u_saved = carry[4]\n",
    "    v_saved = carry[5]\n",
    "\n",
    "    return u_saved, v_saved"
   ]
  },
  {
   "cell_type": "markdown",
   "metadata": {},
   "source": [
    "## Actual simulations"
   ]
  },
  {
   "cell_type": "code",
   "execution_count": 5,
   "metadata": {},
   "outputs": [],
   "source": [
    "#here number of lattice points is the same as in the order parameter simulation, could be decreased\n",
    "N_y=200\n",
    "N_x=200\n",
    "N=N_x*N_y\n",
    "\n",
    "# healthy laplacian\n",
    "L1, c1 = generate_laplacian(N_x,N_y,0, seed=1000, sparse_matrix=True)\n",
    "\n",
    "#arrhythmic laplacian\n",
    "L2,c2=generate_laplacian(N_x,N_y,0.45, seed=1000, sparse_matrix=True)"
   ]
  },
  {
   "cell_type": "code",
   "execution_count": 6,
   "metadata": {},
   "outputs": [],
   "source": [
    "# here the parameters are the one that we have used for the actual order parameter simulations. \n",
    "# To change how ofter the stimulus is applied, change the stimulus_time \n",
    "# To change the total time of the simulation, change the total_time \n",
    "\n",
    "\n",
    "#healthy heart simulation\n",
    "u_sol_health, v_sol_health = run_simulation(N=N, sigma=0.0001,L=L1, c1=c1, key=random.PRNGKey(2),delta_t=0.1, total_time=5200, stimulus_time=1300, Nconf=5200)\n",
    "#Arrhythmia simulation\n",
    "u_sol_arr, v_sol_arr = run_simulation(N=N, sigma=0.0001,L=L2, c1=c2, key=random.PRNGKey(2),delta_t=0.1, total_time=5200, stimulus_time=1300, Nconf=5200)\n",
    "u_sol_health=u_sol_health.T\n",
    "u_sol_arr=u_sol_arr.T\n",
    "\n",
    "#binarize the results for the raster plot and reshape\n",
    "u_sol_health_bin= jnp.where(u_sol_health > 0.08, 1, jnp.nan)\n",
    "u_sol_arr_bin= jnp.where(u_sol_arr > 0.08, 1, jnp.nan)\n",
    "u_sol_health_bin=u_sol_health_bin.reshape(N_y,N_x,-1)\n",
    "u_sol_arr_bin=u_sol_arr_bin.reshape(N_y,N_x,-1)"
   ]
  },
  {
   "cell_type": "markdown",
   "metadata": {},
   "source": [
    "## Raster Plots"
   ]
  },
  {
   "cell_type": "code",
   "execution_count": 16,
   "metadata": {},
   "outputs": [],
   "source": [
    "# Get the specific slices (rows) without boundary sites and only 50 elements out of 200\n",
    "\n",
    "data_health =u_sol_health_bin[20, 4:54, :1700]\n",
    "\n",
    "data_arr = u_sol_arr_bin[20, 4:54, :1700]\n",
    "\n",
    "# Add blank rows between binary rows \n",
    "N1, T1 = data_arr.shape\n",
    "gap1 = 1  # Gap size (number of blank rows)\n",
    "data_health_with_blanks = np.zeros((N1 * (gap1 + 1), T1))\n",
    "for i in range(N1):\n",
    "    data_health_with_blanks[i * (gap1 + 1), :] = data_health[i, :]\n",
    "\n",
    "\n",
    "\n",
    "gap2 = 1  # Gap size (number of blank rows)\n",
    "data_arr_with_blanks = np.zeros((N1 * (gap2 + 1), T1))\n",
    "for i in range(N1):\n",
    "    data_arr_with_blanks[i * (gap2 + 1), :] = data_arr[i, :]\n",
    "# Define a custom colormap: darkred for 1 and transparent for 0"
   ]
  },
  {
   "cell_type": "code",
   "execution_count": 34,
   "metadata": {},
   "outputs": [
    {
     "data": {
      "image/png": "[encoded data removed]",
      "text/plain": [
       "<Figure size 425.197x283.465 with 1 Axes>"
      ]
     },
     "metadata": {},
     "output_type": "display_data"
    }
   ],
   "source": [
    "\n",
    "colors = [(0, 0, 0, 0),  \n",
    "          (0.55, 0, 0, 1)]  \n",
    "cmap = ListedColormap(colors)\n",
    "\n",
    "width_mm = 36\n",
    "##aspect_ratio = 6 / 4  # wanted aspect ratio\n",
    "#height_mm = width_mm / aspect_ratio\n",
    "height_mm =24\n",
    "\n",
    "# Plot the data\n",
    "plt.figure(figsize=(mm_to_inches(width_mm), mm_to_inches(height_mm)), facecolor='none', dpi=300)\n",
    "plt.subplots_adjust(left=0.01, right=0.99, top=0.99, bottom=0.01)\n",
    "\n",
    "plt.imshow(data_health_with_blanks, cmap=cmap, interpolation='none',  aspect='auto', rasterized=True)\n",
    "plt.xticks([])  \n",
    "plt.yticks([]) \n",
    "#plt.ylabel(\"Excitable cells \", fontsize=16)\n",
    "#plt.xlabel(\"Time (a.u.)\", fontsize=16)\n",
    "plt.gca().spines['top'].set_visible(False)\n",
    "plt.gca().spines['right'].set_visible(False)\n",
    "plt.gca().spines['bottom'].set_visible(False)\n",
    "plt.gca().spines['left'].set_visible(False)\n",
    "\n",
    "plt.savefig('FHN_2D_diffusion_toyeheart_p=0_raster_row.pdf', **savefig_args)\n",
    "\n"
   ]
  },
  {
   "cell_type": "code",
   "execution_count": 35,
   "metadata": {},
   "outputs": [
    {
     "data": {
      "image/png": "[encoded data removed]",
      "text/plain": [
       "<Figure size 425.197x283.465 with 1 Axes>"
      ]
     },
     "metadata": {},
     "output_type": "display_data"
    }
   ],
   "source": [
    "plt.figure(figsize=(mm_to_inches(width_mm), mm_to_inches(height_mm)), facecolor='none', dpi=300)\n",
    "plt.subplots_adjust(left=0.01, right=0.99, top=0.99, bottom=0.01)\n",
    "\n",
    "plt.imshow(data_arr_with_blanks,cmap=cmap, interpolation='none', aspect='auto', rasterized=True)\n",
    "plt.xticks([])  \n",
    "plt.yticks([])  \n",
    "#plt.ylabel(\"Excitable cells\", fontsize=16)\n",
    "#plt.xlabel(\"Time (a.u.)\", fontsize=16)\n",
    "plt.gca().spines['top'].set_visible(False)\n",
    "plt.gca().spines['right'].set_visible(False)\n",
    "plt.gca().spines['bottom'].set_visible(False)\n",
    "plt.gca().spines['left'].set_visible(False)\n",
    "plt.gca().set_rasterized(True)\n",
    "plt.savefig('FHN_2D_diffusion_toyheart_p=45_raster_row.pdf', **savefig_args)\n",
    "plt.show()\n",
    "\n"
   ]
  },
  {
   "cell_type": "code",
   "execution_count": 37,
   "metadata": {},
   "outputs": [
    {
     "data": {
      "image/png": "[encoded data removed]",
      "text/plain": [
       "<Figure size 425.197x283.465 with 1 Axes>"
      ]
     },
     "metadata": {},
     "output_type": "display_data"
    }
   ],
   "source": [
    "# Get the specific slices (columns) without boundary sites\n",
    "\n",
    "data_health = u_sol_health_bin[ 4:54,20, :1700]\n",
    "\n",
    "data_arr = u_sol_arr_bin[4:54, 20, :1700]\n",
    "\n",
    "# Add blank rows between binary rows \n",
    "\n",
    "gap1 = 1  # Gap size (number of blank rows)\n",
    "data_health_with_blanks = np.zeros((N1 * (gap1 + 1), T1))\n",
    "for i in range(N1):\n",
    "    data_health_with_blanks[i * (gap1 + 1), :] = data_health[i, :]\n",
    "\n",
    "# Add blank rows between binary rows \n",
    "\n",
    "gap2 = 1 \n",
    "data_arr_with_blanks = np.zeros((N1 * (gap2 + 1), T1))\n",
    "for i in range(N1):\n",
    "    data_arr_with_blanks[i * (gap2 + 1), :] = data_arr[i, :]\n",
    "\n",
    "\n",
    "\n",
    "# Plot the data\n",
    "plt.figure(figsize=(mm_to_inches(width_mm), mm_to_inches(height_mm)), facecolor='none', dpi=300)\n",
    "plt.subplots_adjust(left=0.01, right=0.99, top=0.99, bottom=0.01)\n",
    "plt.imshow(data_health_with_blanks, cmap=cmap, interpolation='none', aspect='auto', rasterized=True)\n",
    "plt.xticks([])  \n",
    "plt.yticks([])  \n",
    "#plt.ylabel(\"Excitable cells \", fontsize=16)\n",
    "#plt.xlabel(\"Time (a.u.)\", fontsize=16)\n",
    "plt.gca().spines['top'].set_visible(False)\n",
    "plt.gca().spines['right'].set_visible(False)\n",
    "plt.gca().spines['bottom'].set_visible(False)\n",
    "plt.gca().spines['left'].set_visible(False)\n",
    "\n",
    "\n",
    "plt.savefig('FHN_2D_diffusion_toyheart_p=0_raster_column.pdf', **savefig_args)\n",
    "\n",
    "\n"
   ]
  },
  {
   "cell_type": "code",
   "execution_count": 38,
   "metadata": {},
   "outputs": [
    {
     "data": {
      "image/png": "[encoded data removed]",
      "text/plain": [
       "<Figure size 425.197x283.465 with 1 Axes>"
      ]
     },
     "metadata": {},
     "output_type": "display_data"
    }
   ],
   "source": [
    "plt.figure(figsize=(mm_to_inches(width_mm), mm_to_inches(height_mm)), facecolor='none', dpi=300)\n",
    "plt.subplots_adjust(left=0.01, right=0.99, top=0.99, bottom=0.01)\n",
    "plt.imshow(data_arr_with_blanks, cmap=cmap, interpolation='none', aspect='auto', rasterized=True)\n",
    "plt.xticks([])\n",
    "plt.yticks([])  \n",
    "#plt.ylabel(\"Excitable cells\", fontsize=16)\n",
    "#plt.xlabel(\"Time (a.u.)\", fontsize=16)\n",
    "plt.gca().spines['top'].set_visible(False)\n",
    "plt.gca().spines['right'].set_visible(False)\n",
    "plt.gca().spines['bottom'].set_visible(False)\n",
    "plt.gca().spines['left'].set_visible(False)\n",
    "\n",
    "plt.savefig('FHN_2D_diffusion_toyheart_p=45_raster_column.pdf', **savefig_args)\n",
    "plt.show()\n"
   ]
  },
  {
   "cell_type": "markdown",
   "metadata": {},
   "source": [
    "## ECG"
   ]
  },
  {
   "cell_type": "code",
   "execution_count": 32,
   "metadata": {},
   "outputs": [
    {
     "data": {
      "image/png": "[encoded data removed]",
      "text/plain": [
       "<Figure size 921.26x283.465 with 1 Axes>"
      ]
     },
     "metadata": {},
     "output_type": "display_data"
    }
   ],
   "source": [
    "width_mm = 78\n",
    "fig, ax = plt.subplots( figsize=(mm_to_inches(width_mm),mm_to_inches(height_mm)), facecolor='none', dpi=300)\n",
    "plt.subplots_adjust(left=0.01, right=0.99, top=0.99, bottom=0.01)\n",
    "u_sol_health=u_sol_health.reshape(N_y*N_x,-1)\n",
    "#get the ECG\n",
    "ECG=u_sol_health[ :, :].sum(axis=0)/10000\n",
    "ax.plot(ECG, color='darkred', rasterized=True)    \n",
    "\n",
    "#ax.set_xticks([0,2,4,6,8])\n",
    "#ax.set_yticks([-0.9, 0,2])\n",
    "ax.set_yticks([])\n",
    "ax.set_xticks([])\n",
    "ax.set_ylim(-0.09,0.24)\n",
    "ax.set_xlim(0,5200)\n",
    "ax.spines['left'].set_visible(False)\n",
    "##ax.spines['bottom'].set_visible(False)\n",
    "ax.spines['right'].set_visible(False)\n",
    "ax.spines['top'].set_visible(False)\n",
    "fig.savefig('FHN_2D_diffusion_toyheart_p=0_collective_signal.pdf', **savefig_args)"
   ]
  },
  {
   "cell_type": "code",
   "execution_count": null,
   "metadata": {},
   "outputs": [],
   "source": []
  }
 ],
 "metadata": {
  "kernelspec": {
   "display_name": "base",
   "language": "python",
   "name": "python3"
  },
  "language_info": {
   "codemirror_mode": {
    "name": "ipython",
    "version": 3
   },
   "file_extension": ".py",
   "mimetype": "text/x-python",
   "name": "python",
   "nbconvert_exporter": "python",
   "pygments_lexer": "ipython3",
   "version": "3.9.13"
  }
 },
 "nbformat": 4,
 "nbformat_minor": 2
}
