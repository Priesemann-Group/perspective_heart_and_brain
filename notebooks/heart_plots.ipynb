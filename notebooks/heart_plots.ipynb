{
 "cells": [
  {
   "cell_type": "code",
   "execution_count": null,
   "metadata": {},
   "outputs": [],
   "source": []
  },
  {
   "cell_type": "markdown",
   "metadata": {},
   "source": [
    "# Figures for the heart"
   ]
  },
  {
   "cell_type": "markdown",
   "metadata": {},
   "source": [
    "## Raster plot"
   ]
  },
  {
   "cell_type": "code",
   "execution_count": 1,
   "metadata": {},
   "outputs": [],
   "source": [
    "import numpy as np \n",
    "import scipy as sp\n",
    "\n",
    "\n",
    "import matplotlib.pyplot as plt\n",
    "\n",
    "\n",
    "\n",
    "\n",
    "\n",
    "import os, sys\n",
    "rootpath = os.path.join(os.getcwd(), '..')\n",
    "sys.path.append(rootpath)\n",
    "\n",
    "import networkx as nx\n",
    "\n",
    "from scipy.sparse import diags, coo_matrix\n",
    "from scipy import sparse\n",
    "import jax.numpy as jnp\n",
    "\n",
    "import jax\n",
    "from jax import lax, vmap, jit\n",
    "import jax.random as random\n",
    "from jax.experimental import sparse\n"
   ]
  },
  {
   "cell_type": "code",
   "execution_count": 2,
   "metadata": {},
   "outputs": [],
   "source": [
    "\n",
    "def generate_laplacian(N, M, conduction_block_threshold, sparse_matrix=False, seed=0):\n",
    "    num_nodes = N * M\n",
    "    adj_rows = []\n",
    "    adj_cols = []\n",
    "    adj_data = []\n",
    "\n",
    "    # Generate random conduction blocks\n",
    "    np.random.seed(seed)\n",
    "    conduction_blocks = np.random.rand(N, M) < conduction_block_threshold\n",
    "\n",
    "\n",
    "    # Function to map grid (i, j) to a single node index\n",
    "    def node_index(i, j):\n",
    "        return i * M + j\n",
    "\n",
    "    # Define neighbors for the nine-point stencil with weights\n",
    "    neighbors = [\n",
    "        (-1, 0, .5),     # up\n",
    "        (1, 0, .5),      # down\n",
    "        (0, -1, .5),     # left\n",
    "        (0, 1, .5),      # right\n",
    "        (-1, -1, .25),   # top-left\n",
    "        (-1, 1, .25),    # top-right\n",
    "        (1, -1, .25),    # bottom-left\n",
    "        (1, 1, .25)      # bottom-right\n",
    "    ]\n",
    "    \n",
    "    # Build adjacency structure excluding conduction blocks\n",
    "    indices = np.array([[i, j] for i in range(N) for j in range(M)])\n",
    "    idx = node_index(indices[:, 0], indices[:, 1])\n",
    "\n",
    "    for di, dj, weight in neighbors:\n",
    "        ni = indices[:, 0] + di\n",
    "        nj = indices[:, 1] + dj\n",
    "\n",
    "    # Step 1: Filter for in-bounds neighbors\n",
    "        in_bounds = (ni >= 0) & (ni < N) & (nj >= 0) & (nj < M)\n",
    "    \n",
    "    # Step 2: Find valid indices (in-bounds) to avoid shape mismatches\n",
    "        valid_indices = np.where(in_bounds)[0]\n",
    "        ni_valid = ni[valid_indices]\n",
    "        nj_valid = nj[valid_indices]\n",
    "\n",
    "    # Step 3: Apply conduction block exclusion on the filtered indices\n",
    "        valid_conduction = ~conduction_blocks[ni_valid, nj_valid]\n",
    "        valid_node = ~conduction_blocks[indices[valid_indices, 0], indices[valid_indices, 1]]\n",
    "        valid = valid_conduction & valid_node\n",
    "\n",
    "    # Step 4: Append data for fully valid connections\n",
    "        adj_rows.extend(idx[valid_indices][valid])\n",
    "        adj_cols.extend(node_index(ni_valid[valid], nj_valid[valid]))\n",
    "        adj_data.extend([weight] * int(np.sum(valid)))\n",
    "\n",
    "\n",
    "    # Create adjacency and degree matrices\n",
    "    adj_matrix = coo_matrix((adj_data, (adj_rows, adj_cols)), shape=(num_nodes, num_nodes))\n",
    "    degrees = np.array(adj_matrix.sum(axis=1)).flatten()\n",
    "    degree_matrix = diags(degrees)\n",
    "\n",
    "    # Construct Laplacian matrix\n",
    "    laplacian_matrix = degree_matrix - adj_matrix\n",
    "\n",
    "\n",
    "    if sparse_matrix:\n",
    "\n",
    "        return sparse.BCSR.from_scipy_sparse(laplacian_matrix), jnp.array(conduction_blocks)\n",
    "    \n",
    "    else:\n",
    "        return laplacian_matrix.todense(), conduction_blocks\n",
    "\n"
   ]
  },
  {
   "cell_type": "code",
   "execution_count": 3,
   "metadata": {},
   "outputs": [],
   "source": [
    "N_y=200\n",
    "N_x=200\n",
    "N=N_x*N_y\n",
    "dts=500\n",
    "L1, c1 = generate_laplacian(N_x,N_y,0, seed=1000, sparse_matrix=True)\n",
    "L2,c2=generate_laplacian(N_x,N_y,0.35, seed=135, sparse_matrix=True)"
   ]
  },
  {
   "cell_type": "code",
   "execution_count": 4,
   "metadata": {},
   "outputs": [],
   "source": [
    "\n",
    "def FHN_step(u, v, N, a, b, e, Du, sigma, L, key, delta_t):\n",
    "    '''\n",
    "    Perform a single step of the noisy FitzHugh-Nagumo model.\n",
    "    Parameters:\n",
    "    - u: state variable u\n",
    "    - v: state variable v\n",
    "    - N: number of nodes\n",
    "    - a: parameter a\n",
    "    - b: parameter b\n",
    "    - e: parameter e giving the timescale separation between u and v\n",
    "    - Du: Diffusion coefficient\n",
    "    - sigma: noise intensity\n",
    "    - L: Laplacian matrix\n",
    "    - key: random key for noise generation\n",
    "    - delta_t: time step\n",
    "    Returns:\n",
    "    - u_new: updated state variable u\n",
    "    - v_new: updated state variable v\n",
    "    '''\n",
    "    # Generate Gaussian noise for each element of h\n",
    "    noise = random.normal(key, u.shape)\n",
    "    \n",
    "    du = a * u * (u - b) * (1 - u) - Du * (L @ u) - v \n",
    "    dv = e * (u - v)\n",
    "    u_new = u + du * delta_t + jnp.sqrt(delta_t * sigma**2) * noise\n",
    "    v_new = v + dv * delta_t\n",
    "\n",
    "    return u_new, v_new\n",
    "\n",
    "def run_simulation(N, y0='wave', a=3, b=0.05, e=1e-2, Du=0.04, L=None, c1=None, sigma=0.0001, stimulus_time=1000, delta_t=0.1, total_time=3000.0, Nconf=3000, key=random.PRNGKey(2)):\n",
    "    indices = jnp.where((jnp.arange(N) % 200 == 0) & (c1.flatten() == 0))[0]\n",
    "    if y0 == 'wave':\n",
    "        y0 = jnp.zeros(2 * N, dtype=jnp.float32)\n",
    "        y0 = y0.at[indices].set(0.1)\n",
    "\n",
    "    # Calculate the number of steps based on the total time and delta_t\n",
    "    num_steps = int(total_time / delta_t)\n",
    "    save_interval = num_steps // Nconf\n",
    "    \n",
    "    # Initialize state variables\n",
    "    u = y0[:N]\n",
    "    v = y0[N:]\n",
    "\n",
    "    def scan_fn(carry, step):\n",
    "        u, v, key, save_counter, u_saved, v_saved = carry\n",
    "        key, subkey = random.split(key)\n",
    "        \n",
    "        # Apply stimulus to the specified indices\n",
    "        u = jax.lax.cond((step > 0) & (step % int(stimulus_time / delta_t) == 0),\n",
    "                          lambda u: u.at[indices].add(0.1),\n",
    "                          lambda u: u,\n",
    "                          u)\n",
    "\n",
    "        u, v = FHN_step(u, v, N, a, b, e, Du, sigma, L, subkey, delta_t)\n",
    "        \n",
    "        # Save the configuration at the specified intervals\n",
    "        save_counter = save_counter + 1\n",
    "        u_saved = jax.lax.cond(save_counter % save_interval == 0,\n",
    "                               lambda u_saved: u_saved.at[save_counter // save_interval - 1].set(u),\n",
    "                               lambda u_saved: u_saved,\n",
    "                               u_saved)\n",
    "        v_saved = jax.lax.cond(save_counter % save_interval == 0,\n",
    "                               lambda v_saved: v_saved.at[save_counter // save_interval - 1].set(v),\n",
    "                               lambda v_saved: v_saved,\n",
    "                               v_saved)\n",
    "        \n",
    "        return (u, v, key, save_counter, u_saved, v_saved), (u, v)\n",
    "\n",
    "    # Preallocate arrays for saved configurations\n",
    "    u_saved = jnp.zeros((Nconf, N), dtype=jnp.float32)\n",
    "    v_saved = jnp.zeros((Nconf, N), dtype=jnp.float32)\n",
    "    \n",
    "    # Create a range of steps\n",
    "    steps = jnp.arange(num_steps)\n",
    "    \n",
    "    # Run the scan function\n",
    "    carry = (u, v, key, 0, u_saved, v_saved)\n",
    "    carry, _ = lax.scan(scan_fn, carry, steps)\n",
    "\n",
    "    u_saved = carry[4]\n",
    "    v_saved = carry[5]\n",
    "\n",
    "    return u_saved, v_saved"
   ]
  },
  {
   "cell_type": "code",
   "execution_count": 5,
   "metadata": {},
   "outputs": [],
   "source": [
    "def threshold_matrix(matrix: jnp.ndarray, threshold: float) -> jnp.ndarray:\n",
    "    \"\"\"\n",
    "    Scans a JAX matrix and returns a binary matrix where elements above \n",
    "    the threshold are 1 and elements below or equal to the threshold are 0.\n",
    "    \n",
    "    Parameters:\n",
    "    matrix (jnp.ndarray): Input JAX matrix.\n",
    "    threshold (float): Threshold value.\n",
    "    \n",
    "    Returns:\n",
    "    jnp.ndarray: A binary matrix of the same shape as the input.\n",
    "    \"\"\"\n",
    "    # Use jax.numpy.where to create a binary matrix\n",
    "    return jnp.where(matrix > threshold, 1, 0)\n"
   ]
  },
  {
   "cell_type": "code",
   "execution_count": 5,
   "metadata": {},
   "outputs": [
    {
     "ename": "NameError",
     "evalue": "name 'threshold_matrix' is not defined",
     "output_type": "error",
     "traceback": [
      "\u001b[1;31m---------------------------------------------------------------------------\u001b[0m",
      "\u001b[1;31mNameError\u001b[0m                                 Traceback (most recent call last)",
      "\u001b[1;32m~\\AppData\\Local\\Temp\\ipykernel_24976\\4107114341.py\u001b[0m in \u001b[0;36m<module>\u001b[1;34m\u001b[0m\n\u001b[0;32m      3\u001b[0m \u001b[0mu_sol1\u001b[0m\u001b[1;33m=\u001b[0m\u001b[0mu_sol\u001b[0m\u001b[1;33m.\u001b[0m\u001b[0mT\u001b[0m\u001b[1;33m\u001b[0m\u001b[1;33m\u001b[0m\u001b[0m\n\u001b[0;32m      4\u001b[0m \u001b[0mu_sol2\u001b[0m\u001b[1;33m=\u001b[0m\u001b[0mu_sol2\u001b[0m\u001b[1;33m.\u001b[0m\u001b[0mT\u001b[0m\u001b[1;33m\u001b[0m\u001b[1;33m\u001b[0m\u001b[0m\n\u001b[1;32m----> 5\u001b[1;33m \u001b[0mbinary1\u001b[0m\u001b[1;33m=\u001b[0m\u001b[0mthreshold_matrix\u001b[0m\u001b[1;33m(\u001b[0m\u001b[0mu_sol1\u001b[0m\u001b[1;33m,\u001b[0m\u001b[1;36m0.08\u001b[0m\u001b[1;33m)\u001b[0m\u001b[1;33m\u001b[0m\u001b[1;33m\u001b[0m\u001b[0m\n\u001b[0m\u001b[0;32m      6\u001b[0m \u001b[0mbinary1\u001b[0m\u001b[1;33m=\u001b[0m\u001b[0mbinary1\u001b[0m\u001b[1;33m.\u001b[0m\u001b[0mreshape\u001b[0m\u001b[1;33m(\u001b[0m\u001b[0mN_x\u001b[0m\u001b[1;33m,\u001b[0m\u001b[0mN_y\u001b[0m\u001b[1;33m,\u001b[0m\u001b[1;33m-\u001b[0m\u001b[1;36m1\u001b[0m\u001b[1;33m)\u001b[0m\u001b[1;33m\u001b[0m\u001b[1;33m\u001b[0m\u001b[0m\n\u001b[0;32m      7\u001b[0m \u001b[0mbinary2\u001b[0m\u001b[1;33m=\u001b[0m\u001b[0mthreshold_matrix\u001b[0m\u001b[1;33m(\u001b[0m\u001b[0mu_sol2\u001b[0m\u001b[1;33m,\u001b[0m\u001b[1;36m0.08\u001b[0m\u001b[1;33m)\u001b[0m\u001b[1;33m\u001b[0m\u001b[1;33m\u001b[0m\u001b[0m\n",
      "\u001b[1;31mNameError\u001b[0m: name 'threshold_matrix' is not defined"
     ]
    }
   ],
   "source": [
    "u_sol, v_sol = run_simulation(N=N, sigma=0.0001,L=L1, c1=c1, key=random.PRNGKey(2),delta_t=0.1, total_time=6500, stimulus_time=1300, Nconf=6500)\n",
    "u_sol2, v_sol2 = run_simulation(N=N, sigma=0.0001,L=L2, c1=c2, key=random.PRNGKey(2),delta_t=0.1, total_time=6500, stimulus_time=1300, Nconf=6500)\n",
    "u_sol1=u_sol.T\n",
    "u_sol2=u_sol2.T\n",
    "binary1=threshold_matrix(u_sol1,0.08)\n",
    "binary1=binary1.reshape(N_x,N_y,-1)\n",
    "binary2=threshold_matrix(u_sol2,0.08)\n",
    "binary2=binary2.reshape(N_x,N_y,-1)\n"
   ]
  },
  {
   "cell_type": "code",
   "execution_count": 15,
   "metadata": {},
   "outputs": [
    {
     "data": {
      "image/png": "[encoded data removed]",
      "text/plain": [
       "<Figure size 800x1200 with 2 Axes>"
      ]
     },
     "metadata": {},
     "output_type": "display_data"
    }
   ],
   "source": [
    "# Get the specific slices\n",
    "\n",
    "data1 = binary1[20, 4:(N_y-4), :1500]\n",
    "\n",
    "data2 = binary1[4:(N_y-4), 10, :1500]\n",
    "\n",
    "# Add blank rows between binary rows for data1\n",
    "N1, T1 = data1.shape\n",
    "gap1 = 1  # Gap size (number of blank rows)\n",
    "data1_with_blanks = np.zeros((N1 * (gap1 + 1), T1))\n",
    "for i in range(N1):\n",
    "    data1_with_blanks[i * (gap1 + 1), :] = data1[i, :]\n",
    "\n",
    "# Add blank rows between binary rows for data2\n",
    "N2, T2 = data2.shape\n",
    "gap2 = 1  # Gap size (number of blank rows)\n",
    "data2_with_blanks = np.zeros((N2 * (gap2 + 1), T2))\n",
    "for i in range(N2):\n",
    "    data2_with_blanks[i * (gap2 + 1), :] = data2[i, :]\n",
    "\n",
    "# Create a custom colormap (transparent for 0, red for 1)\n",
    "cmap = plt.cm.Reds\n",
    "cmap = cmap(np.arange(cmap.N))\n",
    "cmap[0, -1] = 0  # Set the alpha value of the first color (for 0) to 0 (fully transparent)\n",
    "cmap = plt.matplotlib.colors.ListedColormap(cmap)\n",
    "\n",
    "\n",
    "# Plot the data\n",
    "plt.figure(figsize=(8, 12), facecolor='none')\n",
    "\n",
    "# Plot data1\n",
    "plt.subplot(2, 1, 1)\n",
    "plt.imshow(data1_with_blanks, cmap=cmap, vmin=0, vmax=1, aspect='auto')\n",
    "plt.xticks([])  # Remove x-axis ticks\n",
    "plt.yticks([])  # Remove y-axis ticks\n",
    "plt.ylabel(\"Excitable cells \", fontsize=16)\n",
    "plt.xlabel(\"Time (a.u.)\", fontsize=16)\n",
    "plt.gca().spines['top'].set_visible(False)\n",
    "plt.gca().spines['right'].set_visible(False)\n",
    "#plt.gca().spines['bottom'].set_visible(False)\n",
    "#plt.gca().spines['left'].set_visible(False)\n",
    "\n",
    "# Plot data2\n",
    "plt.subplot(2, 1, 2)\n",
    "plt.imshow(data2_with_blanks, cmap=cmap, vmin=0, vmax=1, aspect='auto')\n",
    "plt.xticks([])  # Remove x-axis ticks\n",
    "plt.yticks([])  # Remove y-axis ticks\n",
    "plt.ylabel(\"Excitable cells\", fontsize=16)\n",
    "plt.xlabel(\"Time (a.u.)\", fontsize=16)\n",
    "plt.gca().spines['top'].set_visible(False)\n",
    "plt.gca().spines['right'].set_visible(False)\n",
    "#plt.gca().spines['bottom'].set_visible(False)\n",
    "#plt.gca().spines['left'].set_visible(False)\n",
    "\n",
    "plt.show()"
   ]
  },
  {
   "cell_type": "code",
   "execution_count": 16,
   "metadata": {},
   "outputs": [
    {
     "data": {
      "image/png": "[encoded data removed]",
      "text/plain": [
       "<Figure size 800x1200 with 2 Axes>"
      ]
     },
     "metadata": {},
     "output_type": "display_data"
    }
   ],
   "source": [
    "# Get the specific slices\n",
    "\n",
    "data1 = binary2[20, 4:(N_y-4), :1500]\n",
    "\n",
    "data2 = binary2[4:(N_y-4), 10, :1500]\n",
    "\n",
    "# Add blank rows between binary rows for data1\n",
    "N1, T1 = data1.shape\n",
    "gap1 = 1  # Gap size (number of blank rows)\n",
    "data1_with_blanks = np.zeros((N1 * (gap1 + 1), T1))\n",
    "for i in range(N1):\n",
    "    data1_with_blanks[i * (gap1 + 1), :] = data1[i, :]\n",
    "\n",
    "# Add blank rows between binary rows for data2\n",
    "N2, T2 = data2.shape\n",
    "gap2 = 1  # Gap size (number of blank rows)\n",
    "data2_with_blanks = np.zeros((N2 * (gap2 + 1), T2))\n",
    "for i in range(N2):\n",
    "    data2_with_blanks[i * (gap2 + 1), :] = data2[i, :]\n",
    "\n",
    "# Create a custom colormap (transparent for 0, red for 1)\n",
    "cmap = plt.cm.Reds\n",
    "cmap = cmap(np.arange(cmap.N))\n",
    "cmap[0, -1] = 0  # Set the alpha value of the first color (for 0) to 0 (fully transparent)\n",
    "cmap = plt.matplotlib.colors.ListedColormap(cmap)\n",
    "\n",
    "\n",
    "# Plot the data\n",
    "plt.figure(figsize=(8, 12), facecolor='none')\n",
    "\n",
    "# Plot data1\n",
    "plt.subplot(2, 1, 1)\n",
    "plt.imshow(data1_with_blanks, cmap=cmap, vmin=0, vmax=1, aspect='auto')\n",
    "plt.xticks([])  # Remove x-axis ticks\n",
    "plt.yticks([])  # Remove y-axis ticks\n",
    "plt.ylabel(\"Excitable cells \", fontsize=16)\n",
    "plt.xlabel(\"Time (a.u.)\", fontsize=16)\n",
    "plt.gca().spines['top'].set_visible(False)\n",
    "plt.gca().spines['right'].set_visible(False)\n",
    "#plt.gca().spines['bottom'].set_visible(False)\n",
    "#plt.gca().spines['left'].set_visible(False)\n",
    "\n",
    "# Plot data2\n",
    "plt.subplot(2, 1, 2)\n",
    "plt.imshow(data2_with_blanks, cmap=cmap, vmin=0, vmax=1, aspect='auto')\n",
    "plt.xticks([])  # Remove x-axis ticks\n",
    "plt.yticks([])  # Remove y-axis ticks\n",
    "plt.ylabel(\"Excitable cells\", fontsize=16)\n",
    "plt.xlabel(\"Time (a.u.)\", fontsize=16)\n",
    "plt.gca().spines['top'].set_visible(False)\n",
    "plt.gca().spines['right'].set_visible(False)\n",
    "#plt.gca().spines['bottom'].set_visible(False)\n",
    "#plt.gca().spines['left'].set_visible(False)\n",
    "\n",
    "plt.show()"
   ]
  },
  {
   "cell_type": "code",
   "execution_count": 21,
   "metadata": {},
   "outputs": [
    {
     "data": {
      "text/plain": [
       "([], [])"
      ]
     },
     "execution_count": 21,
     "metadata": {},
     "output_type": "execute_result"
    },
    {
     "data": {
      "image/png": "[encoded data removed]",
      "text/plain": [
       "<Figure size 500x500 with 1 Axes>"
      ]
     },
     "metadata": {},
     "output_type": "display_data"
    }
   ],
   "source": [
    "\n",
    "box1 = np.zeros((50, 50))\n",
    "box1[25, :] = 1  # Set the 26th row to ones\n",
    "\n",
    "# Create the second box with a column of ones\n",
    "box2 = np.zeros((50, 50))\n",
    "box2[:, 25] = 1  # Set the 26th column to ones\n",
    "# Plot the data\n",
    "plt.figure(figsize=(5, 5), facecolor='none')\n",
    "\n",
    "# Plot box1\n",
    "\n",
    "plt.imshow(box1, cmap=cmap, vmin=0, vmax=1, aspect='auto')\n",
    "plt.xticks([])  # Remove x-axis ticks\n",
    "plt.yticks([])  # Remove y-axis ticks\n",
    "\n",
    "\n",
    "\n",
    "\n"
   ]
  },
  {
   "cell_type": "code",
   "execution_count": null,
   "metadata": {},
   "outputs": [
    {
     "data": {
      "image/png": "[encoded data removed]",
      "text/plain": [
       "<Figure size 640x480 with 1 Axes>"
      ]
     },
     "metadata": {},
     "output_type": "display_data"
    }
   ],
   "source": [
    "# Plot box2\n",
    "plt.figure(figsize=(5, 5), facecolor='none')\n",
    "plt.imshow(box2, cmap=cmap, vmin=0, vmax=1, aspect='auto')\n",
    "plt.xticks([])  # Remove x-axis ticks\n",
    "plt.yticks([])  # Remove y-axis ticks\n",
    "\n",
    "plt.show()"
   ]
  },
  {
   "cell_type": "markdown",
   "metadata": {},
   "source": [
    "# Making movies"
   ]
  },
  {
   "cell_type": "code",
   "execution_count": 18,
   "metadata": {},
   "outputs": [],
   "source": [
    "L2,c2=generate_laplacian(N_x,N_y,0.65, seed=145, sparse_matrix=True)\n",
    "u_sol2, v_sol2 = run_simulation(N=N, sigma=0.0001,L=L2, c1=c2, key=random.PRNGKey(2),delta_t=0.1, total_time=7800, stimulus_time=1300, Nconf=400)\n",
    "#u_sol1=u_sol.T\n",
    "u_sol2=u_sol2.T\n"
   ]
  },
  {
   "cell_type": "code",
   "execution_count": null,
   "metadata": {},
   "outputs": [
    {
     "name": "stdout",
     "output_type": "stream",
     "text": [
      "Movie saved to simulation_p=0.65.gif\n"
     ]
    }
   ],
   "source": [
    "from matplotlib.animation import FuncAnimation, PillowWriter\n",
    "\n",
    "def create_movie_from_array(array, output_file=\"movie.mp4\", fps=10, frame_skip=5):\n",
    "    \"\"\"\n",
    "    Create a movie from a 3D array of shape (N, N, T).\n",
    "\n",
    "    Parameters:\n",
    "        array (numpy.ndarray): Input array of shape (N, N, T).\n",
    "        output_file (str): Filename for the output movie (e.g., movie.gif).\n",
    "        fps (int): Frames per second for the movie.\n",
    "        frame_skip (int): Number of frames to skip to speed up the movie.\n",
    "    \"\"\"\n",
    "    N, _, T = array.shape  # Extract dimensions\n",
    "    fig, ax = plt.subplots(figsize=(6, 6)) \n",
    "\n",
    "    \n",
    "    # Display the first frame\n",
    "    img = ax.imshow(array[:, :, 0], cmap=\"seismic\", interpolation=\"bilinear\", vmin=-np.max(np.abs(array)), vmax=np.max(np.abs(array)), aspect='auto')\n",
    "    #plt.axis(\"off\")\n",
    "    \n",
    "    # Add a colorbar with specific ticks\n",
    "    cbar = fig.colorbar(img, ax=ax, ticks=[-0.9, -0.5, 0, 0.5, 0.9])\n",
    "    \n",
    "    cbar.set_label('V', rotation=0, labelpad=15, fontsize=12, color='black')\n",
    "    plt.xticks([])  # Remove x-axis ticks\n",
    "    plt.yticks([])  \n",
    "    \n",
    "    # Update function for the animation\n",
    "    def update(frame):\n",
    "        img.set_data(array[:, :, frame])\n",
    "        return img,\n",
    "\n",
    "    # Create the animation with skipped frames\n",
    "    frames = range(0, T, frame_skip)\n",
    "    anim = FuncAnimation(fig, update, frames=frames, interval=1000/fps, blit=True)\n",
    "    \n",
    "    # Save as GIF or MP4\n",
    "    if output_file.endswith(\".gif\"):\n",
    "        anim.save(output_file, writer=PillowWriter(fps=fps))\n",
    "    elif output_file.endswith(\".mp4\"):\n",
    "        anim.save(output_file, writer=\"ffmpeg\", fps=fps)\n",
    "    else:\n",
    "        raise ValueError(\"Output file must end with .gif or .mp4\")\n",
    "    \n",
    "    plt.close(fig)\n",
    "    print(f\"Movie saved to {output_file}\")\n",
    "\n",
    "\n",
    "u_sol2=u_sol2.reshape(N_x,N_y, -1)\n",
    "\n",
    "#u_sol3=u_sol2[12:(N_x-40),4:(N_x-4),:]\n",
    "\n",
    "\n",
    "create_movie_from_array(u_sol2, output_file=\"simulation_p=0.65.gif\", fps=100, frame_skip=1)\n"
   ]
  },
  {
   "cell_type": "code",
   "execution_count": null,
   "metadata": {},
   "outputs": [],
   "source": []
  }
 ],
 "metadata": {
  "kernelspec": {
   "display_name": "base",
   "language": "python",
   "name": "python3"
  },
  "language_info": {
   "codemirror_mode": {
    "name": "ipython",
    "version": 3
   },
   "file_extension": ".py",
   "mimetype": "text/x-python",
   "name": "python",
   "nbconvert_exporter": "python",
   "pygments_lexer": "ipython3",
   "version": "3.9.13"
  }
 },
 "nbformat": 4,
 "nbformat_minor": 2
}
