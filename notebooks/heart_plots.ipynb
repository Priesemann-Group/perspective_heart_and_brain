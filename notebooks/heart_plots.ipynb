{
 "cells": [
  {
   "cell_type": "code",
   "execution_count": null,
   "metadata": {},
   "outputs": [],
   "source": []
  },
  {
   "cell_type": "markdown",
   "metadata": {},
   "source": [
    "# Figures for the heart"
   ]
  },
  {
   "cell_type": "markdown",
   "metadata": {},
   "source": [
    "## Raster plot"
   ]
  },
  {
   "cell_type": "code",
   "execution_count": 1,
   "metadata": {},
   "outputs": [],
   "source": [
    "import numpy as np \n",
    "import scipy as sp\n",
    "from tqdm.notebook import tqdm\n",
    "\n",
    "import matplotlib.pyplot as plt\n",
    "\n",
    "from sklearn.cluster import DBSCAN\n",
    "\n",
    "\n",
    "import os, sys\n",
    "rootpath = os.path.join(os.getcwd(), '..')\n",
    "sys.path.append(rootpath)\n",
    "\n",
    "import networkx as nx\n",
    "\n",
    "from scipy.sparse import diags, coo_matrix\n",
    "from scipy import sparse\n",
    "import jax.numpy as jnp\n",
    "from diffrax import diffeqsolve, ODETerm, SaveAt\n",
    "import diffrax\n",
    "import jax\n",
    "from jax import lax, vmap, jit\n",
    "import jax.random as random\n",
    "from jax.experimental import sparse\n"
   ]
  },
  {
   "cell_type": "code",
   "execution_count": 2,
   "metadata": {},
   "outputs": [],
   "source": [
    "\n",
    "def generate_laplacian(N, M, conduction_block_threshold, sparse_matrix=False, seed=0):\n",
    "    num_nodes = N * M\n",
    "    adj_rows = []\n",
    "    adj_cols = []\n",
    "    adj_data = []\n",
    "\n",
    "    # Generate random conduction blocks\n",
    "    np.random.seed(seed)\n",
    "    conduction_blocks = np.random.rand(N, M) < conduction_block_threshold\n",
    "\n",
    "    # Function to map grid (i, j) to a single node index\n",
    "    def node_index(i, j):\n",
    "        return i * M + j\n",
    "\n",
    "    # Define neighbors for the nine-point stencil with weights\n",
    "    neighbors = [\n",
    "        (-1, 0, .5),     # up\n",
    "        (1, 0, .5),      # down\n",
    "        (0, -1, .5),     # left\n",
    "        (0, 1, .5),      # right\n",
    "        (-1, -1, .25),   # top-left\n",
    "        (-1, 1, .25),    # top-right\n",
    "        (1, -1, .25),    # bottom-left\n",
    "        (1, 1, .25)      # bottom-right\n",
    "    ]\n",
    "    \n",
    "    # Build adjacency structure excluding conduction blocks\n",
    "    indices = np.array([[i, j] for i in range(N) for j in range(M)])\n",
    "    idx = node_index(indices[:, 0], indices[:, 1])\n",
    "\n",
    "    for di, dj, weight in neighbors:\n",
    "        ni = indices[:, 0] + di\n",
    "        nj = indices[:, 1] + dj\n",
    "\n",
    "    # Step 1: Filter for in-bounds neighbors\n",
    "        in_bounds = (ni >= 0) & (ni < N) & (nj >= 0) & (nj < M)\n",
    "    \n",
    "    # Step 2: Find valid indices (in-bounds) to avoid shape mismatches\n",
    "        valid_indices = np.where(in_bounds)[0]\n",
    "        ni_valid = ni[valid_indices]\n",
    "        nj_valid = nj[valid_indices]\n",
    "\n",
    "    # Step 3: Apply conduction block exclusion on the filtered indices\n",
    "        valid_conduction = ~conduction_blocks[ni_valid, nj_valid]\n",
    "        valid_node = ~conduction_blocks[indices[valid_indices, 0], indices[valid_indices, 1]]\n",
    "        valid = valid_conduction & valid_node\n",
    "\n",
    "    # Step 4: Append data for fully valid connections\n",
    "        adj_rows.extend(idx[valid_indices][valid])\n",
    "        adj_cols.extend(node_index(ni_valid[valid], nj_valid[valid]))\n",
    "        adj_data.extend([weight] * int(np.sum(valid)))\n",
    "\n",
    "\n",
    "    # Create adjacency and degree matrices\n",
    "    adj_matrix = coo_matrix((adj_data, (adj_rows, adj_cols)), shape=(num_nodes, num_nodes))\n",
    "    degrees = np.array(adj_matrix.sum(axis=1)).flatten()\n",
    "    degree_matrix = diags(degrees)\n",
    "\n",
    "    # Construct Laplacian matrix\n",
    "    laplacian_matrix = degree_matrix - adj_matrix\n",
    "\n",
    "\n",
    "    if sparse_matrix:\n",
    "\n",
    "        return sparse.BCSR.from_scipy_sparse(laplacian_matrix), jnp.array(conduction_blocks)\n",
    "    \n",
    "    else:\n",
    "        return laplacian_matrix.todense(), conduction_blocks\n",
    "\n"
   ]
  },
  {
   "cell_type": "code",
   "execution_count": 4,
   "metadata": {},
   "outputs": [],
   "source": [
    "N_y=50\n",
    "N_x=50\n",
    "N=N_x*N_y\n",
    "dts=500\n",
    "L1, c1 = generate_laplacian(N_x,N_y,0, seed=1000, sparse_matrix=True)\n",
    "L2,c2=generate_laplacian(N_x,N_y,0.5, seed=1000, sparse_matrix=True)"
   ]
  },
  {
   "cell_type": "code",
   "execution_count": 5,
   "metadata": {},
   "outputs": [],
   "source": [
    "\n",
    "def FHN_graph(t, y, args):\n",
    "    N, a, b, e, Du,L, c_blocks= args \n",
    "    u = y[:N]\n",
    "    v = y[N:]\n",
    "    \n",
    "    du = a*u*(u-b)*(1-u) - Du*(L@u) - v \n",
    "    dv = e*(u-v)\n",
    "\n",
    "    return jnp.append(du,dv)\n",
    "#switched from Dopri5 to Dopri8 cause the former was getting stuck\n",
    "\n",
    "def solve_heart(y0='wave',N=200*200, a=3, b=0.2, e=1e-2, Du=0.2, T=300, L=L1,c1=c1, max_steps=1000000,dts=6000,\n",
    "                solver=diffrax.Dopri8(), rtol=1e-6, atol=1e-7, dt0=1e-2):\n",
    "    indices = jnp.where((jnp.arange(N) % 50 == 0) & (c1.flatten() == 0))[0]\n",
    "    if y0 == 'wave':\n",
    "        y0 = jnp.zeros(2 * N, dtype=jnp.float32)\n",
    "        y0 = y0.at[indices].set(0.1)\n",
    "    term = ODETerm(FHN_graph)\n",
    "    saveat = SaveAt(ts=jnp.linspace(0, T, dts))  # Reduced save points\n",
    "    stepsize_controller = diffrax.PIDController(rtol=rtol, atol=atol)\n",
    "\n",
    "    # Switch to a less memory-intensive solver, e.g., Tsit5 or BDF\n",
    "    sol = diffeqsolve(term, solver, 0, T, dt0, y0, args=(N, a, b, e, Du, L, c1),\n",
    "                      saveat=saveat, max_steps=max_steps, stepsize_controller=stepsize_controller)\n",
    "\n",
    "    return sol\n"
   ]
  },
  {
   "cell_type": "code",
   "execution_count": 6,
   "metadata": {},
   "outputs": [],
   "source": [
    "def threshold_matrix(matrix: jnp.ndarray, threshold: float) -> jnp.ndarray:\n",
    "    \"\"\"\n",
    "    Scans a JAX matrix and returns a binary matrix where elements above \n",
    "    the threshold are 1 and elements below or equal to the threshold are 0.\n",
    "    \n",
    "    Parameters:\n",
    "    matrix (jnp.ndarray): Input JAX matrix.\n",
    "    threshold (float): Threshold value.\n",
    "    \n",
    "    Returns:\n",
    "    jnp.ndarray: A binary matrix of the same shape as the input.\n",
    "    \"\"\"\n",
    "    # Use jax.numpy.where to create a binary matrix\n",
    "    return jnp.where(matrix > threshold, 1, 0)\n"
   ]
  },
  {
   "cell_type": "code",
   "execution_count": 10,
   "metadata": {},
   "outputs": [],
   "source": [
    "\n",
    "dts=1400\n",
    "sol1 = solve_heart(N=N,T=500,L=L1, c1=c1,a=3,b=0.05,Du=0.04, dts=dts)\n",
    "sol2 = solve_heart(N=N,T=500,L=L2, c1=c2, a=3,b=0.05,Du=0.04, dts=dts)\n",
    "u_sol1 = sol1.ys[:,:N].T \n",
    "binary1=threshold_matrix(u_sol1,0.08)\n",
    "binary1=binary1.reshape(N_x,N_y,-1)\n",
    "u_sol2 = sol2.ys[:,:N].T \n",
    "binary2=threshold_matrix(u_sol2,0.08)\n",
    "binary2=binary2.reshape(N_x,N_y,-1)"
   ]
  },
  {
   "cell_type": "code",
   "execution_count": 17,
   "metadata": {},
   "outputs": [
    {
     "data": {
      "image/png": "[encoded data removed]",
      "text/plain": [
       "<Figure size 800x1200 with 2 Axes>"
      ]
     },
     "metadata": {},
     "output_type": "display_data"
    }
   ],
   "source": [
    "# Get the specific slices\n",
    "\n",
    "data1 = binary1[20, 4:(N_y-4), :]\n",
    "\n",
    "data2 = binary1[4:(N_y-4), 10, :]\n",
    "\n",
    "# Add blank rows between binary rows for data1\n",
    "N1, T1 = data1.shape\n",
    "gap1 = 1  # Gap size (number of blank rows)\n",
    "data1_with_blanks = np.zeros((N1 * (gap1 + 1), T1))\n",
    "for i in range(N1):\n",
    "    data1_with_blanks[i * (gap1 + 1), :] = data1[i, :]\n",
    "\n",
    "# Add blank rows between binary rows for data2\n",
    "N2, T2 = data2.shape\n",
    "gap2 = 1  # Gap size (number of blank rows)\n",
    "data2_with_blanks = np.zeros((N2 * (gap2 + 1), T2))\n",
    "for i in range(N2):\n",
    "    data2_with_blanks[i * (gap2 + 1), :] = data2[i, :]\n",
    "\n",
    "# Create a custom colormap (transparent for 0, red for 1)\n",
    "cmap = plt.cm.Reds\n",
    "cmap = cmap(np.arange(cmap.N))\n",
    "cmap[0, -1] = 0  # Set the alpha value of the first color (for 0) to 0 (fully transparent)\n",
    "cmap = plt.matplotlib.colors.ListedColormap(cmap)\n",
    "\n",
    "\n",
    "# Plot the data\n",
    "plt.figure(figsize=(8, 12), facecolor='none')\n",
    "\n",
    "# Plot data1\n",
    "plt.subplot(2, 1, 1)\n",
    "plt.imshow(data1_with_blanks, cmap=cmap, vmin=0, vmax=1, aspect='auto')\n",
    "plt.xticks([])  # Remove x-axis ticks\n",
    "plt.yticks([])  # Remove y-axis ticks\n",
    "plt.ylabel(\"Excitable cells \", fontsize=16)\n",
    "plt.xlabel(\"Time (a.u.)\", fontsize=16)\n",
    "plt.gca().spines['top'].set_visible(False)\n",
    "plt.gca().spines['right'].set_visible(False)\n",
    "#plt.gca().spines['bottom'].set_visible(False)\n",
    "#plt.gca().spines['left'].set_visible(False)\n",
    "\n",
    "# Plot data2\n",
    "plt.subplot(2, 1, 2)\n",
    "plt.imshow(data2_with_blanks, cmap=cmap, vmin=0, vmax=1, aspect='auto')\n",
    "plt.xticks([])  # Remove x-axis ticks\n",
    "plt.yticks([])  # Remove y-axis ticks\n",
    "plt.ylabel(\"Excitable cells\", fontsize=16)\n",
    "plt.xlabel(\"Time (a.u.)\", fontsize=16)\n",
    "plt.gca().spines['top'].set_visible(False)\n",
    "plt.gca().spines['right'].set_visible(False)\n",
    "#plt.gca().spines['bottom'].set_visible(False)\n",
    "#plt.gca().spines['left'].set_visible(False)\n",
    "\n",
    "plt.show()"
   ]
  },
  {
   "cell_type": "code",
   "execution_count": 20,
   "metadata": {},
   "outputs": [
    {
     "data": {
      "image/png": "[encoded data removed]",
      "text/plain": [
       "<Figure size 800x1200 with 2 Axes>"
      ]
     },
     "metadata": {},
     "output_type": "display_data"
    }
   ],
   "source": [
    "# Get the specific slices\n",
    "\n",
    "data1 = binary2[20, 4:(N_y-4), :]\n",
    "\n",
    "data2 = binary2[4:(N_y-4), 10, :]\n",
    "\n",
    "# Add blank rows between binary rows for data1\n",
    "N1, T1 = data1.shape\n",
    "gap1 = 1  # Gap size (number of blank rows)\n",
    "data1_with_blanks = np.zeros((N1 * (gap1 + 1), T1))\n",
    "for i in range(N1):\n",
    "    data1_with_blanks[i * (gap1 + 1), :] = data1[i, :]\n",
    "\n",
    "# Add blank rows between binary rows for data2\n",
    "N2, T2 = data2.shape\n",
    "gap2 = 1  # Gap size (number of blank rows)\n",
    "data2_with_blanks = np.zeros((N2 * (gap2 + 1), T2))\n",
    "for i in range(N2):\n",
    "    data2_with_blanks[i * (gap2 + 1), :] = data2[i, :]\n",
    "\n",
    "# Create a custom colormap (transparent for 0, red for 1)\n",
    "cmap = plt.cm.Reds\n",
    "cmap = cmap(np.arange(cmap.N))\n",
    "cmap[0, -1] = 0  # Set the alpha value of the first color (for 0) to 0 (fully transparent)\n",
    "cmap = plt.matplotlib.colors.ListedColormap(cmap)\n",
    "\n",
    "\n",
    "# Plot the data\n",
    "plt.figure(figsize=(8, 12), facecolor='none')\n",
    "\n",
    "# Plot data1\n",
    "plt.subplot(2, 1, 1)\n",
    "plt.imshow(data1_with_blanks, cmap=cmap, vmin=0, vmax=1, aspect='auto')\n",
    "plt.xticks([])  # Remove x-axis ticks\n",
    "plt.yticks([])  # Remove y-axis ticks\n",
    "plt.ylabel(\"Excitable cells \", fontsize=16)\n",
    "plt.xlabel(\"Time (a.u.)\", fontsize=16)\n",
    "plt.gca().spines['top'].set_visible(False)\n",
    "plt.gca().spines['right'].set_visible(False)\n",
    "#plt.gca().spines['bottom'].set_visible(False)\n",
    "#plt.gca().spines['left'].set_visible(False)\n",
    "\n",
    "# Plot data2\n",
    "plt.subplot(2, 1, 2)\n",
    "plt.imshow(data2_with_blanks, cmap=cmap, vmin=0, vmax=1, aspect='auto')\n",
    "plt.xticks([])  # Remove x-axis ticks\n",
    "plt.yticks([])  # Remove y-axis ticks\n",
    "plt.ylabel(\"Excitable cells\", fontsize=16)\n",
    "plt.xlabel(\"Time (a.u.)\", fontsize=16)\n",
    "plt.gca().spines['top'].set_visible(False)\n",
    "plt.gca().spines['right'].set_visible(False)\n",
    "#plt.gca().spines['bottom'].set_visible(False)\n",
    "#plt.gca().spines['left'].set_visible(False)\n",
    "\n",
    "plt.show()"
   ]
  },
  {
   "cell_type": "code",
   "execution_count": 21,
   "metadata": {},
   "outputs": [
    {
     "data": {
      "text/plain": [
       "([], [])"
      ]
     },
     "execution_count": 21,
     "metadata": {},
     "output_type": "execute_result"
    },
    {
     "data": {
      "image/png": "[encoded data removed]",
      "text/plain": [
       "<Figure size 500x500 with 1 Axes>"
      ]
     },
     "metadata": {},
     "output_type": "display_data"
    }
   ],
   "source": [
    "\n",
    "box1 = np.zeros((50, 50))\n",
    "box1[25, :] = 1  # Set the 26th row to ones\n",
    "\n",
    "# Create the second box with a column of ones\n",
    "box2 = np.zeros((50, 50))\n",
    "box2[:, 25] = 1  # Set the 26th column to ones\n",
    "# Plot the data\n",
    "plt.figure(figsize=(5, 5), facecolor='none')\n",
    "\n",
    "# Plot box1\n",
    "\n",
    "plt.imshow(box1, cmap=cmap, vmin=0, vmax=1, aspect='auto')\n",
    "plt.xticks([])  # Remove x-axis ticks\n",
    "plt.yticks([])  # Remove y-axis ticks\n",
    "\n",
    "\n",
    "\n",
    "\n"
   ]
  },
  {
   "cell_type": "code",
   "execution_count": null,
   "metadata": {},
   "outputs": [
    {
     "data": {
      "image/png": "[encoded data removed]",
      "text/plain": [
       "<Figure size 640x480 with 1 Axes>"
      ]
     },
     "metadata": {},
     "output_type": "display_data"
    }
   ],
   "source": [
    "# Plot box2\n",
    "plt.figure(figsize=(5, 5), facecolor='none')\n",
    "plt.imshow(box2, cmap=cmap, vmin=0, vmax=1, aspect='auto')\n",
    "plt.xticks([])  # Remove x-axis ticks\n",
    "plt.yticks([])  # Remove y-axis ticks\n",
    "\n",
    "plt.show()"
   ]
  },
  {
   "cell_type": "code",
   "execution_count": null,
   "metadata": {},
   "outputs": [],
   "source": []
  }
 ],
 "metadata": {
  "kernelspec": {
   "display_name": "base",
   "language": "python",
   "name": "python3"
  },
  "language_info": {
   "codemirror_mode": {
    "name": "ipython",
    "version": 3
   },
   "file_extension": ".py",
   "mimetype": "text/x-python",
   "name": "python",
   "nbconvert_exporter": "python",
   "pygments_lexer": "ipython3",
   "version": "3.9.13"
  }
 },
 "nbformat": 4,
 "nbformat_minor": 2
}
