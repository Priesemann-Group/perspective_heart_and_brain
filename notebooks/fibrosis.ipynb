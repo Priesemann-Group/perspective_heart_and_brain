{
 "cells": [
  {
   "cell_type": "markdown",
   "metadata": {},
   "source": [
    "# Simulationg fibrosis"
   ]
  },
  {
   "cell_type": "code",
   "execution_count": null,
   "metadata": {},
   "outputs": [],
   "source": []
  },
  {
   "cell_type": "code",
   "execution_count": 2,
   "metadata": {},
   "outputs": [],
   "source": [
    "import numpy as np \n",
    "import scipy as sp\n",
    "from tqdm.notebook import tqdm\n",
    "\n",
    "import matplotlib.pyplot as plt\n",
    "\n",
    "# import sparse matrices\n",
    "from scipy.sparse import csr_matrix\n",
    "\n",
    "import os, sys\n",
    "rootpath = os.path.join(os.getcwd(), '..')\n",
    "sys.path.append(rootpath)\n",
    "\n",
    "import networkx as nx\n",
    "\n",
    "from scipy.sparse import lil_matrix, diags\n",
    "import sdeint as sde\n",
    "\n",
    "import jax.numpy as jnp\n",
    "from diffrax import diffeqsolve, ODETerm, SaveAt, Tsit5, Dopri5\n",
    "import diffrax\n",
    "import jax\n",
    "from jax.experimental import sparse"
   ]
  },
  {
   "cell_type": "code",
   "execution_count": 3,
   "metadata": {},
   "outputs": [
    {
     "ename": "AttributeError",
     "evalue": "'jaxlib.xla_extension.ArrayImpl' object has no attribute 'device'",
     "output_type": "error",
     "traceback": [
      "\u001b[1;31m---------------------------------------------------------------------------\u001b[0m",
      "\u001b[1;31mAttributeError\u001b[0m                            Traceback (most recent call last)",
      "\u001b[1;32m~\\AppData\\Local\\Temp\\ipykernel_8640\\3618502411.py\u001b[0m in \u001b[0;36m<module>\u001b[1;34m\u001b[0m\n\u001b[0;32m      2\u001b[0m \u001b[0mjax\u001b[0m\u001b[1;33m.\u001b[0m\u001b[0mconfig\u001b[0m\u001b[1;33m.\u001b[0m\u001b[0mupdate\u001b[0m\u001b[1;33m(\u001b[0m\u001b[1;34m'jax_platform_name'\u001b[0m\u001b[1;33m,\u001b[0m \u001b[1;34m'cpu'\u001b[0m\u001b[1;33m)\u001b[0m\u001b[1;33m\u001b[0m\u001b[1;33m\u001b[0m\u001b[0m\n\u001b[0;32m      3\u001b[0m \u001b[1;31m# before execute any computation / allocation\u001b[0m\u001b[1;33m\u001b[0m\u001b[1;33m\u001b[0m\u001b[0m\n\u001b[1;32m----> 4\u001b[1;33m \u001b[0mprint\u001b[0m\u001b[1;33m(\u001b[0m\u001b[0mjax\u001b[0m\u001b[1;33m.\u001b[0m\u001b[0mnumpy\u001b[0m\u001b[1;33m.\u001b[0m\u001b[0mones\u001b[0m\u001b[1;33m(\u001b[0m\u001b[1;36m3\u001b[0m\u001b[1;33m)\u001b[0m\u001b[1;33m.\u001b[0m\u001b[0mdevice\u001b[0m\u001b[1;33m)\u001b[0m\u001b[1;33m\u001b[0m\u001b[1;33m\u001b[0m\u001b[0m\n\u001b[0m",
      "\u001b[1;31mAttributeError\u001b[0m: 'jaxlib.xla_extension.ArrayImpl' object has no attribute 'device'"
     ]
    }
   ],
   "source": [
    "## Run only if you have installed jax with cuda and there is a GPU in your machine but you anyway want to use the CPU instead \n",
    "jax.config.update('jax_platform_name', 'cpu')\n",
    "# before execute any computation / allocation\n",
    "print(jax.numpy.ones(3).device)"
   ]
  },
  {
   "cell_type": "code",
   "execution_count": 7,
   "metadata": {},
   "outputs": [
    {
     "data": {
      "text/plain": [
       "<matplotlib.image.AxesImage at 0x1b8b58d7c40>"
      ]
     },
     "execution_count": 7,
     "metadata": {},
     "output_type": "execute_result"
    },
    {
     "data": {
      "image/png": "[encoded data removed]",
      "text/plain": [
       "<Figure size 640x480 with 1 Axes>"
      ]
     },
     "metadata": {},
     "output_type": "display_data"
    }
   ],
   "source": [
    "\n",
    "def graph_laplacian(N, M, boundary_condition=\"periodic\", sparse_matrix=True, conduction_block_threshold=0.2):\n",
    "    \"\"\"\n",
    "    Create a graph Laplacian using a 9-point stencil with the option to include conduction blocks.\n",
    "    Includes support for periodic or von Neumann (no-flux) boundary conditions.\n",
    "    \n",
    "    Parameters:\n",
    "    - boundary_condition: Type of boundary condition (\"periodic\" or \"no-flux\").\n",
    "    - sparse_matrix: Whether to return the Laplacian as a sparse matrix.\n",
    "    - conduction_block_threshold: Probability threshold for defining conduction blocks. \n",
    "      Nodes with random values smaller than this threshold are considered conduction blocks.\n",
    "    \n",
    "    \"\"\"\n",
    "    \n",
    "    num_nodes = N * M\n",
    "    adj_matrix = lil_matrix((num_nodes, num_nodes))  \n",
    "\n",
    "    # Generate random conduction blocks\n",
    "    conduction_blocks = np.random.rand(N, M) < conduction_block_threshold\n",
    "    \n",
    "    def node_index(i, j):\n",
    "        return i * M + j\n",
    "\n",
    "    for i in range(N):\n",
    "        for j in range(M):\n",
    "            idx = node_index(i, j)\n",
    "            \n",
    "            if conduction_blocks[i, j]:\n",
    "                # Skip this node because it is a conduction block\n",
    "                continue\n",
    "            \n",
    "            # Connect to 8 neighbors (including diagonals), weights according to Oono-Puri\n",
    "            neighbors = [\n",
    "                (i - 1, j, .5),     # up\n",
    "                (i + 1, j, .5),     # down\n",
    "                (i, j - 1, .5),     # left\n",
    "                (i, j + 1, .5),     # right\n",
    "                (i - 1, j - 1, .25), # top-left\n",
    "                (i - 1, j + 1, .25), # top-right\n",
    "                (i + 1, j - 1, .25), # bottom-left\n",
    "                (i + 1, j + 1, .25)  # bottom-right\n",
    "            ]\n",
    "            \n",
    "            for ni, nj, w in neighbors:\n",
    "                if boundary_condition == \"no-flux\":\n",
    "                    # Apply no-flux (Neumann) boundary conditions:\n",
    "                    if 0 <= ni < N and 0 <= nj < M:\n",
    "                        if not conduction_blocks[ni, nj]:\n",
    "                            # Connect only to non-conduction block neighbors inside the grid\n",
    "                            adj_matrix[idx, node_index(ni, nj)] = w\n",
    "                \n",
    "                elif boundary_condition == \"periodic\":\n",
    "                    # Apply periodic boundary conditions by wrapping indices\n",
    "                    ni_wrapped = ni % N\n",
    "                    nj_wrapped = nj % M\n",
    "                    if not conduction_blocks[ni_wrapped, nj_wrapped]:\n",
    "                        adj_matrix[idx, node_index(ni_wrapped, nj_wrapped)] = w\n",
    "\n",
    "    # Compute degrees (diagonal degree matrix)\n",
    "    degrees = np.array(adj_matrix.sum(axis=1)).flatten()\n",
    "    degree_matrix = diags(degrees)\n",
    "    \n",
    "    # Laplacian: L = D - A\n",
    "    laplacian_matrix = degree_matrix - adj_matrix\n",
    "    \n",
    "    if sparse_matrix:\n",
    "        return sparse.csr_matrix(laplacian_matrix)  # Return as sparse matrix\n",
    "    else:\n",
    "        return laplacian_matrix.todense()  # Return as dense matrix\n",
    "\n",
    "\n",
    "N_x = 10\n",
    "N_y = 10\n",
    "N = N_x*N_y\n",
    "sparse_matrix = True\n",
    "laplacian = graph_laplacian(N_x, N_y, boundary_condition=\"periodic\", sparse_matrix=sparse_matrix)\n",
    "plt.imshow(laplacian.todense())"
   ]
  },
  {
   "cell_type": "code",
   "execution_count": null,
   "metadata": {},
   "outputs": [],
   "source": [
    "#the FHN equations would become\n",
    "def FHN_graph(t, y, args):\n",
    "    N, a, b, e, Du, L = args \n",
    "    u = y[:N]\n",
    "    v = y[N:]\n",
    "    \n",
    "    du = a*u*(u-b)*(1-u) - Du*(L@u) - v \n",
    "    dv = e*(u-v)\n",
    "\n",
    "    return jnp.append(du,dv)"
   ]
  },
  {
   "cell_type": "code",
   "execution_count": null,
   "metadata": {},
   "outputs": [],
   "source": [
    "@jax.jit\n",
    "def solve_heart(y0='center-excitation',a=3,b=0.2,e=1e-2,Du=.1,T=300,L=graph_laplacian(N_x, N_y, sparse_matrix=sparse_matrix), max_steps=1000000, solver=Dopri5(),rtol=1e-3, atol=1e-4,dt0=1e-2):\n",
    "    if y0 == 'center-excitation':\n",
    "        y0 = jnp.zeros(2*N)\n",
    "        center = N//2+N_x//2\n",
    "        y0 = y0.at[center-1:center+2].set(0.5)\n",
    "        y0 = y0.at[center-N_x].set(0.5)\n",
    "        y0 = y0.at[center+N_x].set(0.5)\n",
    "    \n",
    "    term = ODETerm(FHN_graph)\n",
    "    saveat = SaveAt(ts=jnp.linspace(0, T, 100))\n",
    "    stepsize_controller = diffrax.PIDController(rtol=rtol, atol=atol)\n",
    "\n",
    "    sol = diffeqsolve(term, solver, 0, T, dt0, y0, args=(N,a,b,e,Du, L), saveat=saveat,max_steps=max_steps, progress_meter=diffrax.TqdmProgressMeter(), stepsize_controller=stepsize_controller)"
   ]
  },
  {
   "cell_type": "code",
   "execution_count": null,
   "metadata": {},
   "outputs": [],
   "source": [
    "sol = solve_heart(T=1000)\n",
    "fig, axs = plt.subplots(1,11,figsize=(30,4))\n",
    "min = sol.ys.min()\n",
    "max = sol.ys.max()\n",
    "for i, ax in enumerate(axs[:-1]):\n",
    "    im = ax.imshow(sol.ys[int((i/len(axs)*len(sol.ts))),:N].reshape(N_x,N_y), vmin=min,vmax=max)\n",
    "axs[-1].axis('off')\n",
    "fig.colorbar(im, ax=axs[-1])"
   ]
  },
  {
   "cell_type": "markdown",
   "metadata": {},
   "source": []
  }
 ],
 "metadata": {
  "kernelspec": {
   "display_name": "base",
   "language": "python",
   "name": "python3"
  },
  "language_info": {
   "codemirror_mode": {
    "name": "ipython",
    "version": 3
   },
   "file_extension": ".py",
   "mimetype": "text/x-python",
   "name": "python",
   "nbconvert_exporter": "python",
   "pygments_lexer": "ipython3",
   "version": "3.9.13"
  }
 },
 "nbformat": 4,
 "nbformat_minor": 2
}
