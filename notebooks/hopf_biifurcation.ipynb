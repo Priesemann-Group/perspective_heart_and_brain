{
 "cells": [
  {
   "cell_type": "code",
   "execution_count": 2,
   "metadata": {},
   "outputs": [
    {
     "name": "stderr",
     "output_type": "stream",
     "text": [
      "\u001b[32m\u001b[1m  Activating\u001b[22m\u001b[39m project at `~/git/projects/perspective_heart_and_brain`\n"
     ]
    },
    {
     "data": {
      "text/plain": [
       "\"/Users/johannes/research/figures_perspective_heart_brain/subfigures/\""
      ]
     },
     "metadata": {},
     "output_type": "display_data"
    }
   ],
   "source": [
    "using Pkg\n",
    "Pkg.activate(\"../\")\n",
    "using DynamicalSystems\n",
    "using DifferentialEquations\n",
    "using CairoMakie\n",
    "path_figures=\"/Users/johannes/research/figures_perspective_heart_brain/subfigures/\"\n",
    "#path_figures=\"/Users/johannes/research/figures_perspective_heart_brain/figures/subfigures/\""
   ]
  },
  {
   "cell_type": "code",
   "execution_count": 3,
   "metadata": {},
   "outputs": [
    {
     "ename": "UndefVarError",
     "evalue": "UndefVarError: `μ` not defined",
     "output_type": "error",
     "traceback": [
      "UndefVarError: `μ` not defined\n",
      "\n",
      "Stacktrace:\n",
      " [1] top-level scope\n",
      "   @ ~/git/projects/perspective_heart_and_brain/notebooks/hopf_biifurcation.ipynb:3"
     ]
    }
   ],
   "source": [
    "# normal form of supercritical hofb bifurcation in polar coordinates (see, e.g., Strogatz or Wikipedia)\n",
    "ω = 1.0\n",
    "dr = (μ - r^2) * r\n",
    "dθ = ω"
   ]
  },
  {
   "cell_type": "code",
   "execution_count": 30,
   "metadata": {},
   "outputs": [
    {
     "data": {
      "image/png": "[encoded data removed]",
      "text/html": [
       "<img width=147 height=85 style='object-fit: contain; height: auto;' src=\"data:image/png;base64, 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\"/>"
      ]
     },
     "metadata": {},
     "output_type": "display_data"
    }
   ],
   "source": [
    "cm = 28.3465 # pt\n",
    "fig = Figure(size = (5.2*cm, 3.0*cm), fontsize=10, figure_padding = 1, backgroundcolor = :transparent)\n",
    "ax = Axis(fig[1,1]; xgridvisible = false, ygridvisible = false, backgroundcolor = :transparent)\n",
    "hidedecorations!(ax)\n",
    "hidespines!(ax)\n",
    "\n",
    "# nullline for dr=0, i.e. r = sqrt(μ) if μ > 0 and r=0 if μ < 0\n",
    "μs = -10:0.001:10\n",
    "r(μ) = μ > 0 ? sqrt(μ) : 0\n",
    "lines!(ax, μs, r.(μs), color=:black, linewidth = 2)\n",
    "xlims!(ax, μs[1], μs[end])\n",
    "# save as pdf\n",
    "save(path_figures*\"hopf_bifurcation.pdf\", fig, pt_per_unit = 1)\n",
    "fig"
   ]
  },
  {
   "cell_type": "code",
   "execution_count": null,
   "metadata": {},
   "outputs": [],
   "source": []
  }
 ],
 "metadata": {
  "kernelspec": {
   "display_name": "Julia 1.10.2",
   "language": "julia",
   "name": "julia-1.10"
  },
  "language_info": {
   "file_extension": ".jl",
   "mimetype": "application/julia",
   "name": "julia",
   "version": "1.10.2"
  }
 },
 "nbformat": 4,
 "nbformat_minor": 2
}
